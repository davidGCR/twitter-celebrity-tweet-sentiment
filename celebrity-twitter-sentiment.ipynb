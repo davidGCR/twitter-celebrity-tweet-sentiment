{
 "cells": [
  {
   "cell_type": "code",
   "execution_count": 25,
   "metadata": {},
   "outputs": [],
   "source": [
    "import os\n",
    "import re\n",
    "\n",
    "from kinnara.gather.twitter import TwitterApiWrapper"
   ]
  },
  {
   "cell_type": "code",
   "execution_count": 2,
   "metadata": {},
   "outputs": [],
   "source": [
    "import logging\n",
    "logging.basicConfig(format='%(asctime)s - %(levelname)s - %(message)s',\n",
    "        level=logging.INFO)\n",
    "logger = logging.getLogger(__name__)"
   ]
  },
  {
   "cell_type": "markdown",
   "metadata": {},
   "source": [
    "#### read in api keys and access tokens"
   ]
  },
  {
   "cell_type": "code",
   "execution_count": 3,
   "metadata": {},
   "outputs": [],
   "source": [
    "api_key = os.getenv('API_KEY')\n",
    "api_secret = os.getenv('API_SECRET')\n",
    "\n",
    "access_token = os.getenv('ACCESS_TOKEN')\n",
    "access_token_secret = os.getenv('ACCESS_TOKEN_SECRET')"
   ]
  },
  {
   "cell_type": "markdown",
   "metadata": {},
   "source": [
    "## Gather public figure tweets"
   ]
  },
  {
   "cell_type": "code",
   "execution_count": 4,
   "metadata": {},
   "outputs": [],
   "source": [
    "# create kinnara gatherer\n",
    "twitter_wrapper = TwitterApiWrapper(api_key=api_key, api_secret=api_secret,\n",
    "                        access_token=access_token, access_token_secret=access_token_secret)"
   ]
  },
  {
   "cell_type": "code",
   "execution_count": 10,
   "metadata": {},
   "outputs": [],
   "source": [
    "screen_names = [\n",
    "    'BarackObama',\n",
    "    'realDonaldTrump',\n",
    "    'KimKardashian',\n",
    "    'BillGates',\n",
    "    'Oprah',\n",
    "    'justinbieber',\n",
    "    'Beyonce',\n",
    "    'TheRock'\n",
    "]"
   ]
  },
  {
   "cell_type": "code",
   "execution_count": 11,
   "metadata": {},
   "outputs": [
    {
     "name": "stderr",
     "output_type": "stream",
     "text": [
      "2018-08-22 10:41:39,245 - INFO - Starting new HTTPS connection (1): api.twitter.com\n",
      "2018-08-22 10:41:39,417 - INFO - Starting new HTTPS connection (1): api.twitter.com\n",
      "2018-08-22 10:41:39,607 - INFO - Starting new HTTPS connection (1): api.twitter.com\n",
      "2018-08-22 10:41:39,782 - INFO - Starting new HTTPS connection (1): api.twitter.com\n",
      "2018-08-22 10:41:39,968 - INFO - Starting new HTTPS connection (1): api.twitter.com\n",
      "2018-08-22 10:41:40,147 - INFO - Starting new HTTPS connection (1): api.twitter.com\n",
      "2018-08-22 10:41:40,340 - INFO - Starting new HTTPS connection (1): api.twitter.com\n",
      "2018-08-22 10:41:40,508 - INFO - Starting new HTTPS connection (1): api.twitter.com\n"
     ]
    }
   ],
   "source": [
    "users = []\n",
    "for screen_name in screen_names:\n",
    "    users.append(twitter_wrapper.get_user(screen_name))"
   ]
  },
  {
   "cell_type": "code",
   "execution_count": 12,
   "metadata": {},
   "outputs": [
    {
     "name": "stderr",
     "output_type": "stream",
     "text": [
      "2018-08-22 10:41:47,348 - INFO - getting tweets for 813286\n",
      "2018-08-22 10:41:47,353 - INFO - Starting new HTTPS connection (1): api.twitter.com\n",
      "2018-08-22 10:41:47,911 - INFO - getting tweets for 813286\n",
      "2018-08-22 10:41:47,915 - INFO - Starting new HTTPS connection (1): api.twitter.com\n",
      "2018-08-22 10:41:48,260 - INFO - getting tweets for 25073877\n",
      "2018-08-22 10:41:48,264 - INFO - Starting new HTTPS connection (1): api.twitter.com\n",
      "2018-08-22 10:41:48,611 - INFO - getting tweets for 25073877\n",
      "2018-08-22 10:41:48,614 - INFO - Starting new HTTPS connection (1): api.twitter.com\n",
      "2018-08-22 10:41:48,966 - INFO - getting tweets for 25365536\n",
      "2018-08-22 10:41:48,970 - INFO - Starting new HTTPS connection (1): api.twitter.com\n",
      "2018-08-22 10:41:49,352 - INFO - getting tweets for 25365536\n",
      "2018-08-22 10:41:49,356 - INFO - Starting new HTTPS connection (1): api.twitter.com\n",
      "2018-08-22 10:41:49,989 - INFO - getting tweets for 50393960\n",
      "2018-08-22 10:41:49,993 - INFO - Starting new HTTPS connection (1): api.twitter.com\n",
      "2018-08-22 10:41:50,487 - INFO - getting tweets for 50393960\n",
      "2018-08-22 10:41:50,490 - INFO - Starting new HTTPS connection (1): api.twitter.com\n",
      "2018-08-22 10:41:50,928 - INFO - getting tweets for 19397785\n",
      "2018-08-22 10:41:50,932 - INFO - Starting new HTTPS connection (1): api.twitter.com\n",
      "2018-08-22 10:41:51,255 - INFO - getting tweets for 19397785\n",
      "2018-08-22 10:41:51,259 - INFO - Starting new HTTPS connection (1): api.twitter.com\n",
      "2018-08-22 10:41:51,635 - INFO - getting tweets for 27260086\n",
      "2018-08-22 10:41:51,638 - INFO - Starting new HTTPS connection (1): api.twitter.com\n",
      "2018-08-22 10:41:52,054 - INFO - getting tweets for 27260086\n",
      "2018-08-22 10:41:52,057 - INFO - Starting new HTTPS connection (1): api.twitter.com\n",
      "2018-08-22 10:41:52,521 - INFO - getting tweets for 31239408\n",
      "2018-08-22 10:41:52,525 - INFO - Starting new HTTPS connection (1): api.twitter.com\n",
      "2018-08-22 10:41:52,961 - INFO - getting tweets for 250831586\n",
      "2018-08-22 10:41:52,966 - INFO - Starting new HTTPS connection (1): api.twitter.com\n",
      "2018-08-22 10:41:53,646 - INFO - getting tweets for 250831586\n",
      "2018-08-22 10:41:53,650 - INFO - Starting new HTTPS connection (1): api.twitter.com\n"
     ]
    }
   ],
   "source": [
    "# lets grab 400 tweets from each twitter users timeline\n",
    "for user in users:\n",
    "    user['tweets'] = twitter_wrapper.get_tweets(user['id_str'], max_tweets_returned=400)"
   ]
  },
  {
   "cell_type": "code",
   "execution_count": 54,
   "metadata": {},
   "outputs": [],
   "source": [
    "def clean_tweet(tweet_text):\n",
    "    '''clean up tweet text'''\n",
    "    return re.sub(r' ?https[^ ]*', r'', tweet_text)"
   ]
  },
  {
   "cell_type": "code",
   "execution_count": 57,
   "metadata": {},
   "outputs": [],
   "source": [
    "screen_name_to_tweets = {}\n",
    "for user in users:\n",
    "    screen_name_to_tweets[user['screen_name']] = [clean_tweet(tweet.get('full_text', ''))\n",
    "                                                  for tweet in user['tweets']\n",
    "                                                  if re.match(r'^RT @', tweet['full_text']) is None]"
   ]
  },
  {
   "cell_type": "code",
   "execution_count": 61,
   "metadata": {},
   "outputs": [],
   "source": [
    "# save it for later\n",
    "f = open('tweet_data.csv', 'w')\n",
    "for screen_name, tweets in screen_name_to_tweets.items():\n",
    "    for tweet in tweets:\n",
    "        f.write(f'\"{screen_name}\", \"{tweet}\"\\n')\n",
    "f.close()"
   ]
  },
  {
   "cell_type": "markdown",
   "metadata": {},
   "source": [
    "# Model"
   ]
  },
  {
   "cell_type": "code",
   "execution_count": null,
   "metadata": {},
   "outputs": [],
   "source": []
  }
 ],
 "metadata": {
  "kernelspec": {
   "display_name": "Python 3",
   "language": "python",
   "name": "python3"
  },
  "language_info": {
   "codemirror_mode": {
    "name": "ipython",
    "version": 3
   },
   "file_extension": ".py",
   "mimetype": "text/x-python",
   "name": "python",
   "nbconvert_exporter": "python",
   "pygments_lexer": "ipython3",
   "version": "3.7.0"
  }
 },
 "nbformat": 4,
 "nbformat_minor": 2
}

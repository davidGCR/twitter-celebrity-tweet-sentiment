{
 "cells": [
  {
   "cell_type": "code",
   "execution_count": 1,
   "metadata": {},
   "outputs": [],
   "source": [
    "import os\n",
    "import re\n",
    "\n",
    "from kinnara.gather.twitter import TwitterApiWrapper"
   ]
  },
  {
   "cell_type": "code",
   "execution_count": 2,
   "metadata": {},
   "outputs": [],
   "source": [
    "import logging\n",
    "logging.basicConfig(format='%(asctime)s - %(levelname)s - %(message)s',\n",
    "        level=logging.INFO)\n",
    "logger = logging.getLogger(__name__)"
   ]
  },
  {
   "cell_type": "markdown",
   "metadata": {},
   "source": [
    "#### read in api keys and access tokens"
   ]
  },
  {
   "cell_type": "code",
   "execution_count": 3,
   "metadata": {},
   "outputs": [],
   "source": [
    "api_key = os.getenv('API_KEY')\n",
    "api_secret = os.getenv('API_SECRET')\n",
    "\n",
    "access_token = os.getenv('ACCESS_TOKEN')\n",
    "access_token_secret = os.getenv('ACCESS_TOKEN_SECRET')"
   ]
  },
  {
   "cell_type": "markdown",
   "metadata": {},
   "source": [
    "## Gather public figure tweets"
   ]
  },
  {
   "cell_type": "code",
   "execution_count": 4,
   "metadata": {},
   "outputs": [],
   "source": [
    "# create kinnara gatherer\n",
    "twitter_wrapper = TwitterApiWrapper(api_key=api_key, api_secret=api_secret,\n",
    "                        access_token=access_token, access_token_secret=access_token_secret)"
   ]
  },
  {
   "cell_type": "code",
   "execution_count": 5,
   "metadata": {},
   "outputs": [],
   "source": [
    "screen_names = [\n",
    "    'BarackObama',\n",
    "    'realDonaldTrump',\n",
    "    'KimKardashian',\n",
    "    'BillGates',\n",
    "    'Oprah',\n",
    "    'justinbieber',\n",
    "    'Beyonce',\n",
    "    'TheRock'\n",
    "]"
   ]
  },
  {
   "cell_type": "code",
   "execution_count": null,
   "metadata": {},
   "outputs": [],
   "source": []
  },
  {
   "cell_type": "code",
   "execution_count": 6,
   "metadata": {},
   "outputs": [
    {
     "name": "stderr",
     "output_type": "stream",
     "text": [
      "2018-08-24 22:17:46,695 - INFO - Starting new HTTPS connection (1): api.twitter.com\n",
      "2018-08-24 22:17:46,868 - INFO - Starting new HTTPS connection (1): api.twitter.com\n"
     ]
    },
    {
     "name": "stdout",
     "output_type": "stream",
     "text": [
      "BarackObama\n",
      "realDonaldTrump\n"
     ]
    },
    {
     "name": "stderr",
     "output_type": "stream",
     "text": [
      "2018-08-24 22:17:47,039 - INFO - Starting new HTTPS connection (1): api.twitter.com\n",
      "2018-08-24 22:17:47,192 - INFO - Starting new HTTPS connection (1): api.twitter.com\n"
     ]
    },
    {
     "name": "stdout",
     "output_type": "stream",
     "text": [
      "KimKardashian\n",
      "BillGates\n"
     ]
    },
    {
     "name": "stderr",
     "output_type": "stream",
     "text": [
      "2018-08-24 22:17:47,374 - INFO - Starting new HTTPS connection (1): api.twitter.com\n",
      "2018-08-24 22:17:47,515 - INFO - Starting new HTTPS connection (1): api.twitter.com\n"
     ]
    },
    {
     "name": "stdout",
     "output_type": "stream",
     "text": [
      "Oprah\n",
      "justinbieber\n"
     ]
    },
    {
     "name": "stderr",
     "output_type": "stream",
     "text": [
      "2018-08-24 22:17:47,666 - INFO - Starting new HTTPS connection (1): api.twitter.com\n",
      "2018-08-24 22:17:47,811 - INFO - Starting new HTTPS connection (1): api.twitter.com\n"
     ]
    },
    {
     "name": "stdout",
     "output_type": "stream",
     "text": [
      "Beyonce\n",
      "TheRock\n"
     ]
    }
   ],
   "source": [
    "users = []\n",
    "for screen_name in screen_names:\n",
    "    users.append(twitter_wrapper.get_user(screen_name))"
   ]
  },
  {
   "cell_type": "code",
   "execution_count": 8,
   "metadata": {},
   "outputs": [
    {
     "name": "stderr",
     "output_type": "stream",
     "text": [
      "2018-08-24 22:18:04,257 - INFO - getting tweets for 813286\n",
      "2018-08-24 22:18:04,260 - INFO - Starting new HTTPS connection (1): api.twitter.com\n",
      "2018-08-24 22:18:04,658 - INFO - getting tweets for 813286\n",
      "2018-08-24 22:18:04,661 - INFO - Starting new HTTPS connection (1): api.twitter.com\n",
      "2018-08-24 22:18:05,022 - INFO - getting tweets for 25073877\n",
      "2018-08-24 22:18:05,024 - INFO - Starting new HTTPS connection (1): api.twitter.com\n",
      "2018-08-24 22:18:05,525 - INFO - getting tweets for 25073877\n",
      "2018-08-24 22:18:05,528 - INFO - Starting new HTTPS connection (1): api.twitter.com\n",
      "2018-08-24 22:18:05,875 - INFO - getting tweets for 25365536\n",
      "2018-08-24 22:18:05,878 - INFO - Starting new HTTPS connection (1): api.twitter.com\n",
      "2018-08-24 22:18:06,322 - INFO - getting tweets for 25365536\n",
      "2018-08-24 22:18:06,324 - INFO - Starting new HTTPS connection (1): api.twitter.com\n",
      "2018-08-24 22:18:06,800 - INFO - getting tweets for 50393960\n",
      "2018-08-24 22:18:06,803 - INFO - Starting new HTTPS connection (1): api.twitter.com\n",
      "2018-08-24 22:18:07,388 - INFO - getting tweets for 50393960\n",
      "2018-08-24 22:18:07,391 - INFO - Starting new HTTPS connection (1): api.twitter.com\n",
      "2018-08-24 22:18:07,792 - INFO - getting tweets for 19397785\n",
      "2018-08-24 22:18:07,795 - INFO - Starting new HTTPS connection (1): api.twitter.com\n",
      "2018-08-24 22:18:08,131 - INFO - getting tweets for 19397785\n",
      "2018-08-24 22:18:08,134 - INFO - Starting new HTTPS connection (1): api.twitter.com\n",
      "2018-08-24 22:18:08,528 - INFO - getting tweets for 27260086\n",
      "2018-08-24 22:18:08,531 - INFO - Starting new HTTPS connection (1): api.twitter.com\n",
      "2018-08-24 22:18:09,062 - INFO - getting tweets for 27260086\n",
      "2018-08-24 22:18:09,065 - INFO - Starting new HTTPS connection (1): api.twitter.com\n",
      "2018-08-24 22:18:09,483 - INFO - getting tweets for 31239408\n",
      "2018-08-24 22:18:09,486 - INFO - Starting new HTTPS connection (1): api.twitter.com\n",
      "2018-08-24 22:18:09,666 - INFO - getting tweets for 250831586\n",
      "2018-08-24 22:18:09,669 - INFO - Starting new HTTPS connection (1): api.twitter.com\n",
      "2018-08-24 22:18:10,209 - INFO - getting tweets for 250831586\n",
      "2018-08-24 22:18:10,212 - INFO - Starting new HTTPS connection (1): api.twitter.com\n"
     ]
    }
   ],
   "source": [
    "# lets grab 400 tweets from each twitter users timeline\n",
    "for user in users:\n",
    "    user['tweets'] = twitter_wrapper.get_tweets(user['id_str'], max_tweets_returned=400)"
   ]
  },
  {
   "cell_type": "code",
   "execution_count": 9,
   "metadata": {},
   "outputs": [],
   "source": [
    "def clean_tweet(tweet_text):\n",
    "    '''clean up tweet text'''\n",
    "    return re.sub(r' ?https[^ ]*', r'', tweet_text)"
   ]
  },
  {
   "cell_type": "code",
   "execution_count": 10,
   "metadata": {},
   "outputs": [],
   "source": [
    "screen_name_to_tweets = {}\n",
    "for user in users:\n",
    "    screen_name_to_tweets[user['screen_name']] = [clean_tweet(tweet.get('full_text', ''))\n",
    "                                                  for tweet in user['tweets']\n",
    "                                                  if re.match(r'^RT @', tweet['full_text']) is None]"
   ]
  },
  {
   "cell_type": "code",
   "execution_count": 12,
   "metadata": {},
   "outputs": [],
   "source": [
    "# save it for later\n",
    "f = open('/home/ubuntu/data/twitter/celebrity_tweet_data.csv', 'w')\n",
    "\n",
    "for screen_name, tweets in screen_name_to_tweets.items():\n",
    "    for tweet in tweets:\n",
    "        f.write(f'{screen_name}, \"{tweet}\"\\n')\n",
    "f.close()"
   ]
  },
  {
   "cell_type": "code",
   "execution_count": 92,
   "metadata": {},
   "outputs": [],
   "source": [
    "screen_names = []\n",
    "tweets = []\n",
    "\n",
    "for k, ts in screen_name_to_tweets.items():\n",
    "    for tweet in ts:\n",
    "        screen_names.append(k)\n",
    "        tweets.append(tweet)\n",
    "\n",
    "celebrity_df = pd.DataFrame.from_dict({'screen_names': screen_names, 'tweets': tweets})\n"
   ]
  },
  {
   "cell_type": "code",
   "execution_count": 93,
   "metadata": {},
   "outputs": [],
   "source": [
    "# save it for later\n",
    "celebrity_df.to_csv('/home/ubuntu/data/twitter/celebrity_tweets.csv', header=False, index=False, encoding='utf-8')"
   ]
  },
  {
   "cell_type": "code",
   "execution_count": 94,
   "metadata": {},
   "outputs": [],
   "source": [
    "# also save one with 0s instead of screen names, will make sense later\n",
    "zs = np.zeros(len(screen_names), dtype=int)\n",
    "zs[-1] = 1\n",
    "celebrity_df_ints = pd.DataFrame.from_dict({'screen_names': zs, 'tweets': tweets})\n",
    "\n",
    "celebrity_df_ints.to_csv('/home/ubuntu/data/twitter/celebrity_tweets_ints.csv', header=False, index=False, encoding='utf-8')"
   ]
  },
  {
   "cell_type": "code",
   "execution_count": 43,
   "metadata": {},
   "outputs": [
    {
     "data": {
      "text/plain": [
       "array([0, 0, 0, 0, 0, 0, 0, 0, 0, 0])"
      ]
     },
     "execution_count": 43,
     "metadata": {},
     "output_type": "execute_result"
    }
   ],
   "source": []
  },
  {
   "cell_type": "markdown",
   "metadata": {},
   "source": [
    "# Model"
   ]
  },
  {
   "cell_type": "markdown",
   "metadata": {},
   "source": [
    "This portion of the notebook borrows extensively from fast.ai's notebook for lesson 10 in their deep learning course part two."
   ]
  },
  {
   "cell_type": "code",
   "execution_count": 13,
   "metadata": {},
   "outputs": [
    {
     "name": "stderr",
     "output_type": "stream",
     "text": [
      "/home/ubuntu/src/anaconda3/envs/fastai/lib/python3.6/site-packages/sklearn/ensemble/weight_boosting.py:29: DeprecationWarning: numpy.core.umath_tests is an internal NumPy module and should not be imported. It will be removed in a future NumPy release.\n",
      "  from numpy.core.umath_tests import inner1d\n"
     ]
    }
   ],
   "source": [
    "import collections\n",
    "import html\n",
    "\n",
    "import numpy as np\n",
    "import pandas as pd\n",
    "\n",
    "from fastai.text import *"
   ]
  },
  {
   "cell_type": "markdown",
   "metadata": {},
   "source": [
    "Define the directories we'll be using\n",
    "\n",
    "You'll need to download tweet sentiment data from kaggle - https://www.kaggle.com/c/twitter-sentiment-analysis2/data - and put it in the twitter/orignal directory"
   ]
  },
  {
   "cell_type": "code",
   "execution_count": 14,
   "metadata": {},
   "outputs": [],
   "source": [
    "BOS = 'xbos'  # beginning-of-sentence tag\n",
    "FLD = 'xfld'  # data field tag\n",
    "\n",
    "# path to our original tweet data from kaggle\n",
    "PATH = '/home/ubuntu/data/twitter/original'"
   ]
  },
  {
   "cell_type": "code",
   "execution_count": 15,
   "metadata": {},
   "outputs": [],
   "source": [
    "# path to our classification data\n",
    "CLASSIFICATION_PATH = '/home/ubuntu/data/twitter/twitter_classification/'\n",
    "\n",
    "# path to our language model\n",
    "LANGUAGE_MODEL_PATH = '/home/ubuntu/data/twitter/twitter_language_model/'"
   ]
  },
  {
   "cell_type": "markdown",
   "metadata": {},
   "source": [
    "start prepping our tweet data from kaggle"
   ]
  },
  {
   "cell_type": "code",
   "execution_count": 16,
   "metadata": {},
   "outputs": [],
   "source": [
    "CLASSES = ['neg', 'pos']"
   ]
  },
  {
   "cell_type": "code",
   "execution_count": null,
   "metadata": {},
   "outputs": [],
   "source": [
    "df = pd.read_csv(PATH + '/train.csv', encoding='latin1')\n",
    "\n",
    "# shuffle rows and throw out item id column\n",
    "df = df.drop('ItemID', axis=1)\n",
    "df = df.sample(frac=1)\n",
    "\n",
    "# rename columns\n",
    "df.columns = ['labels', 'text']\n",
    "\n",
    "# split datafram into train and validation sets for later\n",
    "split_index = int(df.shape[0] * .9)\n",
    "train_df, test_df = np.split(df, [split_index], axis=0)"
   ]
  },
  {
   "cell_type": "markdown",
   "metadata": {},
   "source": [
    "saving our current progress"
   ]
  },
  {
   "cell_type": "code",
   "execution_count": null,
   "metadata": {},
   "outputs": [],
   "source": [
    "# save to classification directory\n",
    "train_df.to_csv(CLASSIFICATION_PATH + '/train.csv', header=False, index=False, encoding='utf-8')\n",
    "test_df.to_csv(CLASSIFICATION_PATH + '/test.csv', header=False, index=False, encoding='utf-8')\n",
    "\n",
    "f = open(CLASSIFICATION_PATH + '/classes.txt', 'w', encoding='utf-8')\n",
    "f.writelines(f'{c}\\n' for c in CLASSES)\n",
    "f.close()\n",
    "\n",
    "# save to language model directory\n",
    "# we should be adding in the test.csv from the kaggle competition here because the language model doesn't care about labels\n",
    "# but in the interest of time I'm opting to just use the training set for the language model\n",
    "train_df.to_csv(LANGUAGE_MODEL_PATH + '/train.csv', header=False, index=False, encoding='utf-8')\n",
    "test_df.to_csv(LANGUAGE_MODEL_PATH + '/test.csv', header=False, index=False, encoding='utf-8')"
   ]
  },
  {
   "cell_type": "markdown",
   "metadata": {},
   "source": [
    "lets start cleaning some text"
   ]
  },
  {
   "cell_type": "code",
   "execution_count": 34,
   "metadata": {},
   "outputs": [],
   "source": [
    "# chunksize for pandas so it doesn't run into any memory limits\n",
    "chunksize=24000"
   ]
  },
  {
   "cell_type": "code",
   "execution_count": null,
   "metadata": {},
   "outputs": [],
   "source": [
    "df.shape"
   ]
  },
  {
   "cell_type": "code",
   "execution_count": 75,
   "metadata": {},
   "outputs": [],
   "source": [
    "## functions pulled from the fast.ai notebook for text tokenization\n",
    "\n",
    "re1 = re.compile(r'  +')\n",
    "\n",
    "def fixup(x):\n",
    "    '''some patterns identified by the fast.ai folks that spacy doesn't account for'''\n",
    "    x = x.replace('#39;', \"'\").replace('amp;', '&').replace('#146;', \"'\").replace(\n",
    "        'nbsp;', ' ').replace('#36;', '$').replace('\\\\n', \"\\n\").replace('quot;', \"'\").replace(\n",
    "        '<br />', \"\\n\").replace('\\\\\"', '\"').replace('<unk>','u_n').replace(' @.@ ','.').replace(\n",
    "        ' @-@ ','-').replace('\\\\', ' \\\\ ')\n",
    "    return re1.sub(' ', html.unescape(x))\n",
    "\n",
    "def get_texts(df, n_lbls=1):\n",
    "    labels = df.iloc[:,range(n_lbls)].values.astype(np.int64)\n",
    "    texts = f'\\n{BOS} {FLD} 1 ' + df[n_lbls].astype(str)\n",
    "    for i in range(n_lbls+1, len(df.columns)): texts += f' {FLD} {i-n_lbls} ' + df[i].astype(str)\n",
    "    texts = list(texts.apply(fixup).values)\n",
    "\n",
    "    tok = Tokenizer().proc_all_mp(partition_by_cores(texts))\n",
    "    return tok, list(labels)\n",
    "\n",
    "def get_all(df, n_lbls):\n",
    "    '''tokenize the text'''\n",
    "    tok, labels = [], []\n",
    "    for i, r in enumerate(df):\n",
    "        print(i, n_lbls)\n",
    "        tok_, labels_ = get_texts(r, n_lbls)\n",
    "        tok += tok_;\n",
    "        labels += labels_\n",
    "    return tok, labels"
   ]
  },
  {
   "cell_type": "code",
   "execution_count": null,
   "metadata": {},
   "outputs": [],
   "source": [
    "# grab our dataframes from earlier\n",
    "train_df = pd.read_csv(LANGUAGE_MODEL_PATH + '/train.csv', header=None, chunksize=chunksize)\n",
    "val_df = pd.read_csv(LANGUAGE_MODEL_PATH + '/test.csv', header=None, chunksize=chunksize)"
   ]
  },
  {
   "cell_type": "code",
   "execution_count": null,
   "metadata": {},
   "outputs": [],
   "source": [
    "# tokenize the tweets\n",
    "train_tokens, train_labels = get_all(train_df, 1)\n",
    "val_tokens, val_labels = get_all(val_df, 1)"
   ]
  },
  {
   "cell_type": "code",
   "execution_count": null,
   "metadata": {},
   "outputs": [],
   "source": [
    "#make temporary directory\n",
    "os.mkdir(LANGUAGE_MODEL_PATH + '/tmp')"
   ]
  },
  {
   "cell_type": "code",
   "execution_count": null,
   "metadata": {},
   "outputs": [],
   "source": [
    "# save our tokens\n",
    "np.save(LANGUAGE_MODEL_PATH + '/tmp/tok_trn.npy', train_tokens)\n",
    "np.save(LANGUAGE_MODEL_PATH + '/tmp/tok_val.npy', val_tokens)"
   ]
  },
  {
   "cell_type": "code",
   "execution_count": null,
   "metadata": {},
   "outputs": [],
   "source": [
    "# load back in\n",
    "train_tokens = np.load(LANGUAGE_MODEL_PATH + '/tmp/tok_trn.npy')\n",
    "val_tokens = np.load(LANGUAGE_MODEL_PATH + '/tmp/tok_val.npy')"
   ]
  },
  {
   "cell_type": "code",
   "execution_count": null,
   "metadata": {},
   "outputs": [],
   "source": [
    "# lets take a look at our most common tokens\n",
    "freq = Counter(token for tokens in train_tokens for token in tokens)\n",
    "freq.most_common(25)"
   ]
  },
  {
   "cell_type": "markdown",
   "metadata": {},
   "source": [
    "looks about right.  quick note to keep in mind - the \"t_up\" token isn't in the text its self, it is a marker indicating the following token is all uppercase.\n",
    "\n",
    "fast.ai recommends that you only keep the 60,000 or so most common tokens. Reason being low frequency tokens don't help you learn a lot about a language.\n",
    "\n",
    "We don't have that many tokens for our tweets, but it makes me feel good to put in anyways ..."
   ]
  },
  {
   "cell_type": "code",
   "execution_count": null,
   "metadata": {},
   "outputs": [],
   "source": [
    "max_vocab = 60000\n",
    "min_freq = 2\n",
    "\n",
    "int_to_token = [o for o, c in freq.most_common(max_vocab) if c > min_freq]\n",
    "int_to_token.insert(0, '_pad_')\n",
    "int_to_token.insert(0, '_unk_')"
   ]
  },
  {
   "cell_type": "code",
   "execution_count": null,
   "metadata": {},
   "outputs": [],
   "source": [
    "token_to_int = collections.defaultdict(lambda: 0, {v: k for k, v in enumerate(int_to_token)})\n",
    "len(int_to_token)"
   ]
  },
  {
   "cell_type": "code",
   "execution_count": null,
   "metadata": {},
   "outputs": [],
   "source": [
    "train_lm = np.array([[token_to_int[o] for o in p] for p in train_tokens])\n",
    "val_lm = np.array([[token_to_int[o] for o in p] for p in val_tokens])"
   ]
  },
  {
   "cell_type": "code",
   "execution_count": null,
   "metadata": {},
   "outputs": [],
   "source": [
    "# saving our progress\n",
    "np.save(LANGUAGE_MODEL_PATH + '/tmp/trn_ids.npy', train_lm)\n",
    "np.save(LANGUAGE_MODEL_PATH + '/tmp/val_ids.npy', val_lm)\n",
    "\n",
    "pickle.dump(int_to_token, open(LANGUAGE_MODEL_PATH + '/tmp/itos.pkl', 'wb'))"
   ]
  },
  {
   "cell_type": "code",
   "execution_count": null,
   "metadata": {},
   "outputs": [],
   "source": [
    "# loading back in\n",
    "train_lm = np.load(LANGUAGE_MODEL_PATH + '/tmp/trn_ids.npy')\n",
    "val_lm = np.load(LANGUAGE_MODEL_PATH + '/tmp/val_ids.npy')\n",
    "int_to_token = pickle.load(open(LANGUAGE_MODEL_PATH + '/tmp/itos.pkl', 'rb'))"
   ]
  },
  {
   "cell_type": "code",
   "execution_count": null,
   "metadata": {},
   "outputs": [],
   "source": [
    "num_twitter_tokens = len(int_to_token)\n",
    "num_twitter_tokens, len(train_lm)"
   ]
  },
  {
   "cell_type": "markdown",
   "metadata": {},
   "source": [
    "### load in a pretrained language model trained on wikipedia text"
   ]
  },
  {
   "cell_type": "markdown",
   "metadata": {},
   "source": [
    "run this line to download wikipedia model"
   ]
  },
  {
   "cell_type": "code",
   "execution_count": null,
   "metadata": {},
   "outputs": [],
   "source": [
    "# ! wget -nH -r -np -P {PATH} http://files.fast.ai/models/wt103/"
   ]
  },
  {
   "cell_type": "code",
   "execution_count": null,
   "metadata": {},
   "outputs": [],
   "source": [
    "# some stats from the wikepedia model\n",
    "embedding_size, num_hidden, num_layers = 400,1150,3"
   ]
  },
  {
   "cell_type": "code",
   "execution_count": null,
   "metadata": {},
   "outputs": [],
   "source": [
    "PRE_PATH = '/home/ubuntu/data/twitter/original/models/wt103/'\n",
    "PRE_LM_PATH = PRE_PATH + '/fwd_wt103.h5'"
   ]
  },
  {
   "cell_type": "code",
   "execution_count": null,
   "metadata": {},
   "outputs": [],
   "source": [
    "# grab the weights from the encoder\n",
    "weights = torch.load(PRE_LM_PATH, map_location=lambda storage, loc: storage)"
   ]
  },
  {
   "cell_type": "markdown",
   "metadata": {},
   "source": [
    "The mean of the weights from layer 0 can be used to assign weights to tokens that exist in the wikipedia dataset but not in the twitter dataset"
   ]
  },
  {
   "cell_type": "code",
   "execution_count": null,
   "metadata": {},
   "outputs": [],
   "source": [
    "encoder_weights = to_np(weights['0.encoder.weight'])\n",
    "# row_m = enc_wgts.mean(0)\n",
    "encoder_mean = encoder_weights.mean(0)"
   ]
  },
  {
   "cell_type": "code",
   "execution_count": null,
   "metadata": {},
   "outputs": [],
   "source": [
    "wiki_int_to_token = pickle.load(open(PRE_PATH + '/itos_wt103.pkl', 'rb'))\n",
    "wiki_token_to_int = collections.defaultdict(lambda: -1, {v:k for k, v in enumerate(wiki_int_to_token)})"
   ]
  },
  {
   "cell_type": "markdown",
   "metadata": {},
   "source": [
    "We need to assign mean weights to tokens that exist in our twitter dataset that dont in the wikipedia dataset the pretrained model was trained on."
   ]
  },
  {
   "cell_type": "code",
   "execution_count": null,
   "metadata": {},
   "outputs": [],
   "source": [
    "new_weights = np.zeros((num_twitter_tokens, embedding_size), dtype=np.float32)\n",
    "for i, w in enumerate(int_to_token):\n",
    "    r = wiki_token_to_int[w]\n",
    "    new_weights[i] = encoder_weights[r] if r >= 0 else encoder_mean"
   ]
  },
  {
   "cell_type": "markdown",
   "metadata": {},
   "source": [
    "We now need to put the new weights into the pretrained model\n",
    "\n",
    "The weights between the encoder and decoder also need to be tied together"
   ]
  },
  {
   "cell_type": "code",
   "execution_count": null,
   "metadata": {},
   "outputs": [],
   "source": [
    "weights['0.encoder.weight'] = T(new_weights)\n",
    "weights['0.encoder_with_dropout.embed.weight'] = T(np.copy(new_weights))\n",
    "weights['1.decoder.weight'] = T(np.copy(new_weights))"
   ]
  },
  {
   "cell_type": "markdown",
   "metadata": {},
   "source": [
    "### Retraining the wikipedia language model"
   ]
  },
  {
   "cell_type": "code",
   "execution_count": null,
   "metadata": {},
   "outputs": [],
   "source": [
    "wd=1e-7 # weight decay\n",
    "bptt=70 # ngram size.  i.e. the model sees ~70 tokens and then tries to predict the 71st\n",
    "bs=52 # batch size\n",
    "opt_fn = partial(optim.Adam, betas=(0.8, 0.99)) # optimazation function"
   ]
  },
  {
   "cell_type": "markdown",
   "metadata": {},
   "source": [
    "Here we define a special fastai data loader, the `LanguageModelLoader`, to feed the training data into the model whilst training.\n",
    "\n",
    "We can then use those to instanciate a `LanguageModelData` class that returns a fastai model we can train"
   ]
  },
  {
   "cell_type": "code",
   "execution_count": null,
   "metadata": {},
   "outputs": [],
   "source": [
    "train_dl = LanguageModelLoader(np.concatenate(train_lm), bs, bptt)\n",
    "val_dl = LanguageModelLoader(np.concatenate(val_lm), bs, bptt)\n",
    "\n",
    "md = LanguageModelData(PATH, 1, vs, train_dl, val_dl, bs=bs, bptt=bptt)"
   ]
  },
  {
   "cell_type": "code",
   "execution_count": null,
   "metadata": {},
   "outputs": [],
   "source": [
    "# the dropouts for each layer.\n",
    "drops = np.array([0.25, 0.1, 0.2, 0.02, 0.15])*0.7"
   ]
  },
  {
   "cell_type": "markdown",
   "metadata": {},
   "source": [
    "The last embedding layer needs to be tuned first so the new weights we set for the pretrained model get tuned properly.\n",
    "\n",
    "fastai allows you to freeze and unfreeze model layers.  So here we freeze everything but the weights in the last embedding layer"
   ]
  },
  {
   "cell_type": "code",
   "execution_count": null,
   "metadata": {},
   "outputs": [],
   "source": [
    "learner = md.get_model(\n",
    "    opt_fn, embedding_size, num_hidden, num_layers, dropouti=drops[0], dropout=drops[1],\n",
    "    wdrop=drops[2], dropoute=drops[3], dropouth=drops[4]\n",
    ")\n",
    "\n",
    "learner.metrics = [accuracy]\n",
    "\n",
    "# freeze everything except last layer\n",
    "learner.freeze_to(-1)"
   ]
  },
  {
   "cell_type": "code",
   "execution_count": null,
   "metadata": {},
   "outputs": [],
   "source": [
    "# load the weights\n",
    "learner.model.load_state_dict(weights)"
   ]
  },
  {
   "cell_type": "code",
   "execution_count": null,
   "metadata": {},
   "outputs": [],
   "source": [
    "lr = 1e-3 # learning rate\n",
    "lrs = lr"
   ]
  },
  {
   "cell_type": "code",
   "execution_count": null,
   "metadata": {},
   "outputs": [],
   "source": [
    "learner.fit(lrs/2, 1, wds=wd, use_clr=(32,2), cycle_len=2)"
   ]
  },
  {
   "cell_type": "code",
   "execution_count": null,
   "metadata": {},
   "outputs": [],
   "source": [
    "# save our progress\n",
    "learner.save('lm_last_ft')"
   ]
  },
  {
   "cell_type": "code",
   "execution_count": null,
   "metadata": {},
   "outputs": [],
   "source": [
    "# load back in\n",
    "learner.load('lm_last_ft')"
   ]
  },
  {
   "cell_type": "code",
   "execution_count": null,
   "metadata": {},
   "outputs": [],
   "source": [
    "# now with our new embedding weights trained up, we can unfreeze and train all layers\n",
    "learner.unfreeze()"
   ]
  },
  {
   "cell_type": "code",
   "execution_count": null,
   "metadata": {},
   "outputs": [],
   "source": [
    "# to find our learning rate\n",
    "learner.lr_find(start_lr=lrs/10, end_lr=lrs*50, linear=True)"
   ]
  },
  {
   "cell_type": "code",
   "execution_count": null,
   "metadata": {},
   "outputs": [],
   "source": [
    "learner.sched.plot()"
   ]
  },
  {
   "cell_type": "code",
   "execution_count": null,
   "metadata": {},
   "outputs": [],
   "source": [
    "# looks like 10-2 or 10-3 or so could be a good learning rate for us"
   ]
  },
  {
   "cell_type": "code",
   "execution_count": null,
   "metadata": {},
   "outputs": [],
   "source": [
    "learner.fit(lrs, 1, wds=wd, use_clr=(20,10), cycle_len=1)"
   ]
  },
  {
   "cell_type": "code",
   "execution_count": null,
   "metadata": {},
   "outputs": [],
   "source": [
    "# save our progress\n",
    "learner.save('lm1')\n",
    "learner.save_encoder('lm1_enc')"
   ]
  },
  {
   "cell_type": "code",
   "execution_count": null,
   "metadata": {},
   "outputs": [],
   "source": [
    "# taking a look at our loss\n",
    "learner.sched.plot_loss()"
   ]
  },
  {
   "cell_type": "markdown",
   "metadata": {},
   "source": [
    "## Tweet Sentiment Classifier"
   ]
  },
  {
   "cell_type": "markdown",
   "metadata": {},
   "source": [
    "Now that we have our language model trained on tweets, we can start training our tweet sentiment classifier\n",
    "\n",
    "To do this all we have to do is tack on a layer to our trained encoder."
   ]
  },
  {
   "cell_type": "code",
   "execution_count": 126,
   "metadata": {},
   "outputs": [],
   "source": [
    "train_df = pd.read_csv(CLASSIFICATION_PATH + '/train.csv', header=None, chunksize=chunksize)\n",
    "val_df = pd.read_csv(CLASSIFICATION_PATH + '/test.csv', header=None, chunksize=chunksize)"
   ]
  },
  {
   "cell_type": "code",
   "execution_count": 127,
   "metadata": {},
   "outputs": [
    {
     "name": "stdout",
     "output_type": "stream",
     "text": [
      "0 1\n",
      "1 1\n",
      "2 1\n",
      "3 1\n",
      "0 1\n"
     ]
    }
   ],
   "source": [
    "# do the same cleaning we did for the language model\n",
    "train_tokens, train_labels = get_all(train_df, 1)\n",
    "val_tokens, val_labels = get_all(val_df, 1)"
   ]
  },
  {
   "cell_type": "code",
   "execution_count": 128,
   "metadata": {},
   "outputs": [
    {
     "ename": "FileExistsError",
     "evalue": "[Errno 17] File exists: '/home/ubuntu/data/twitter/twitter_classification//tmp'",
     "output_type": "error",
     "traceback": [
      "\u001b[0;31m---------------------------------------------------------------------------\u001b[0m",
      "\u001b[0;31mFileExistsError\u001b[0m                           Traceback (most recent call last)",
      "\u001b[0;32m<ipython-input-128-c8e1f0c1a281>\u001b[0m in \u001b[0;36m<module>\u001b[0;34m()\u001b[0m\n\u001b[1;32m      1\u001b[0m \u001b[0;31m# make temp directory in classifier directory\u001b[0m\u001b[0;34m\u001b[0m\u001b[0;34m\u001b[0m\u001b[0m\n\u001b[0;32m----> 2\u001b[0;31m \u001b[0mos\u001b[0m\u001b[0;34m.\u001b[0m\u001b[0mmkdir\u001b[0m\u001b[0;34m(\u001b[0m\u001b[0mCLASSIFICATION_PATH\u001b[0m \u001b[0;34m+\u001b[0m \u001b[0;34m'/tmp'\u001b[0m\u001b[0;34m)\u001b[0m\u001b[0;34m\u001b[0m\u001b[0m\n\u001b[0m\u001b[1;32m      3\u001b[0m \u001b[0;34m\u001b[0m\u001b[0m\n\u001b[1;32m      4\u001b[0m \u001b[0;31m# save tokens\u001b[0m\u001b[0;34m\u001b[0m\u001b[0;34m\u001b[0m\u001b[0m\n\u001b[1;32m      5\u001b[0m \u001b[0mnp\u001b[0m\u001b[0;34m.\u001b[0m\u001b[0msave\u001b[0m\u001b[0;34m(\u001b[0m\u001b[0mCLASSIFICATION_PATH\u001b[0m \u001b[0;34m+\u001b[0m \u001b[0;34m'/tmp/tok_trn.npy'\u001b[0m\u001b[0;34m,\u001b[0m \u001b[0mtrain_tokens\u001b[0m\u001b[0;34m)\u001b[0m\u001b[0;34m\u001b[0m\u001b[0m\n",
      "\u001b[0;31mFileExistsError\u001b[0m: [Errno 17] File exists: '/home/ubuntu/data/twitter/twitter_classification//tmp'"
     ]
    }
   ],
   "source": [
    "# make temp directory in classifier directory\n",
    "os.mkdir(CLASSIFICATION_PATH + '/tmp')\n",
    "\n",
    "# save tokens\n",
    "np.save(CLASSIFICATION_PATH + '/tmp/tok_trn.npy', train_tokens)\n",
    "np.save(CLASSIFICATION_PATH + '/tmp/tok_val.npy', val_tokens)\n",
    "\n",
    "np.save(CLASSIFICATION_PATH + '/tmp/trn_labels.npy', train_labels)\n",
    "np.save(CLASSIFICATION_PATH + '/tmp/val_labels.npy', val_labels)"
   ]
  },
  {
   "cell_type": "code",
   "execution_count": 129,
   "metadata": {},
   "outputs": [],
   "source": [
    "# load back in \n",
    "train_tokens = np.load(CLASSIFICATION_PATH + '/tmp/tok_trn.npy')\n",
    "val_tokens = np.load(CLASSIFICATION_PATH + '/tmp/tok_val.npy')"
   ]
  },
  {
   "cell_type": "code",
   "execution_count": 130,
   "metadata": {},
   "outputs": [
    {
     "data": {
      "text/plain": [
       "15833"
      ]
     },
     "execution_count": 130,
     "metadata": {},
     "output_type": "execute_result"
    }
   ],
   "source": [
    "int_to_token = pickle.load(open(LANGUAGE_MODEL_PATH + '/tmp/itos.pkl', 'rb'))\n",
    "token_to_int = collections.defaultdict(lambda: 0, {v:k for k, v in enumerate(int_to_token)})\n",
    "len(int_to_token)"
   ]
  },
  {
   "cell_type": "code",
   "execution_count": 131,
   "metadata": {},
   "outputs": [],
   "source": [
    "train_classification = np.array([[token_to_int[o] for o in p] for p in train_tokens])\n",
    "val_classification = np.array([[token_to_int[o] for o in p] for p in val_tokens])"
   ]
  },
  {
   "cell_type": "code",
   "execution_count": 132,
   "metadata": {},
   "outputs": [],
   "source": [
    "np.save(CLASSIFICATION_PATH + '/tmp/trn_ids.npy', train_classification)\n",
    "np.save(CLASSIFICATION_PATH + '/tmp/val_ids.npy', val_classification)"
   ]
  },
  {
   "cell_type": "code",
   "execution_count": 133,
   "metadata": {},
   "outputs": [],
   "source": [
    "# load back in \n",
    "train_classification = np.load(CLASSIFICATION_PATH + '/tmp/trn_ids.npy')\n",
    "val_classification = np.load(CLASSIFICATION_PATH + '/tmp/val_ids.npy')\n",
    "\n",
    "train_labels = np.squeeze(np.load(CLASSIFICATION_PATH + '/tmp/trn_labels.npy'))\n",
    "val_labels = np.squeeze(np.load(CLASSIFICATION_PATH + '/tmp/val_labels.npy'))"
   ]
  },
  {
   "cell_type": "code",
   "execution_count": 134,
   "metadata": {},
   "outputs": [],
   "source": [
    "# params\n",
    "bptt, embedding_size, num_hidden, num_layers = 70, 400, 1150, 3\n",
    "num_tokens = len(int_to_token)\n",
    "opt_fn = partial(optim.Adam, betas=(0.8, 0.99))\n",
    "bs = 48"
   ]
  },
  {
   "cell_type": "code",
   "execution_count": 135,
   "metadata": {},
   "outputs": [
    {
     "data": {
      "text/plain": [
       "(array([list([3, 4, 5, 2, 0, 906, 9, 17, 107, 235, 562, 8, 82, 27, 1568, 11, 551, 50, 2180, 3293]),\n",
       "        list([3, 4, 5, 2, 2239, 15, 143, 6, 15, 66, 15, 10, 9, 15, 10, 15, 48, 15, 299, 8, 8, 8, 289, 276]),\n",
       "        list([3, 4, 5, 2, 3834, 145, 6285, 33, 0, 152, 124, 3382]),\n",
       "        list([3, 4, 5, 2, 0, 0, 0, 100, 11, 5132, 7, 1080, 31, 51, 0, 25, 0, 7, 151, 54, 129, 2166, 130, 23, 11, 15, 0, 7]),\n",
       "        list([3, 4, 5, 2, 0, 6, 39, 71, 457, 12, 198, 58, 261, 20, 61, 6, 73])], dtype=object),\n",
       " array([0, 1, 0, 1, 1]))"
      ]
     },
     "execution_count": 135,
     "metadata": {},
     "output_type": "execute_result"
    }
   ],
   "source": [
    "train_classification[:5], train_labels[:5]"
   ]
  },
  {
   "cell_type": "code",
   "execution_count": 136,
   "metadata": {},
   "outputs": [],
   "source": [
    "min_label = train_labels.min()\n",
    "train_labels -= min_label\n",
    "val_labels -= min_label\n",
    "c = int(train_labels.max()) + 1"
   ]
  },
  {
   "cell_type": "code",
   "execution_count": 137,
   "metadata": {},
   "outputs": [],
   "source": [
    "train_ds = TextDataset(train_classification, train_labels)\n",
    "val_ds = TextDataset(val_classification, val_labels)\n",
    "\n",
    "# the sortish sampler helps by sorting things kinda sorta by their token length so padding isn't crazy\n",
    "train_sampler = SortishSampler(train_classification, key=lambda x: len(train_classification[x]), bs=bs//2)\n",
    "# doesn't matter so much for the validation set\n",
    "val_sampler = SortSampler(val_classification, key=lambda x: len(val_classification[x]))\n",
    "\n",
    "# get data loaders\n",
    "train_dl = DataLoader(train_ds, bs//2, transpose=True, num_workers=1, pad_idx=1, sampler=train_sampler)\n",
    "val_dl = DataLoader(val_ds, bs, transpose=True, num_workers=1, pad_idx=1, sampler=val_sampler)\n",
    "\n",
    "# model data\n",
    "md = ModelData(PATH, train_dl, val_dl)"
   ]
  },
  {
   "cell_type": "code",
   "execution_count": 138,
   "metadata": {},
   "outputs": [],
   "source": [
    "# part 1\n",
    "dps = np.array([0.4, 0.5, 0.05, 0.3, 0.1])"
   ]
  },
  {
   "cell_type": "code",
   "execution_count": null,
   "metadata": {},
   "outputs": [],
   "source": [
    "# part 2\n",
    "dps = np.array([0.4,0.5,0.05,0.3,0.4])*0.5"
   ]
  },
  {
   "cell_type": "code",
   "execution_count": 139,
   "metadata": {},
   "outputs": [],
   "source": [
    "m = get_rnn_classifier(bptt, 20*70, c, num_tokens, emb_sz=embedding_size, n_hid=num_hidden, n_layers=num_layers,\n",
    "                       pad_token=1, layers=[embedding_size*3, 50, c], drops=[dps[4], 0.1], dropouti=dps[0],\n",
    "                       wdrop=dps[1], dropoute=dps[2], dropouth=dps[3])"
   ]
  },
  {
   "cell_type": "code",
   "execution_count": 140,
   "metadata": {},
   "outputs": [],
   "source": [
    "opt_fn = partial(optim.Adam, betas=(0.7, 0.99))"
   ]
  },
  {
   "cell_type": "code",
   "execution_count": 141,
   "metadata": {},
   "outputs": [],
   "source": [
    "learn = RNN_Learner(md, TextModel(to_gpu(m)), opt_fn=opt_fn)\n",
    "learn.reg_fn = partial(seq2seq_reg, alpha=2, beta=1)\n",
    "learn.clip=25.\n",
    "learn.metrics = [accuracy]"
   ]
  },
  {
   "cell_type": "code",
   "execution_count": 142,
   "metadata": {},
   "outputs": [],
   "source": [
    "lr=3e-3\n",
    "lrm = 2.6\n",
    "lrs = np.array([lr/(lrm**4), lr/(lrm**3), lr/(lrm**2), lr/lrm, lr]) # differential learning rates"
   ]
  },
  {
   "cell_type": "code",
   "execution_count": null,
   "metadata": {},
   "outputs": [],
   "source": [
    "# lrs=np.array([1e-4,1e-4,1e-4,1e-3,1e-2])"
   ]
  },
  {
   "cell_type": "markdown",
   "metadata": {},
   "source": [
    "load our encoder from our tweet language model"
   ]
  },
  {
   "cell_type": "code",
   "execution_count": null,
   "metadata": {},
   "outputs": [],
   "source": [
    "wd = 1e-7\n",
    "wd = 0\n",
    "learn.load_encoder('lm1_enc')"
   ]
  },
  {
   "cell_type": "code",
   "execution_count": null,
   "metadata": {},
   "outputs": [],
   "source": [
    "# freeze all except last layer\n",
    "learn.freeze_to(-1)"
   ]
  },
  {
   "cell_type": "code",
   "execution_count": null,
   "metadata": {},
   "outputs": [],
   "source": [
    "# to find learning rate\n",
    "learn.lr_find(lrs/1000)\n",
    "learn.sched.plot()"
   ]
  },
  {
   "cell_type": "code",
   "execution_count": null,
   "metadata": {},
   "outputs": [],
   "source": [
    "# little tough to tell here, but we'll go with what we set previously and what fastai used for their imdb dataset"
   ]
  },
  {
   "cell_type": "code",
   "execution_count": null,
   "metadata": {},
   "outputs": [],
   "source": [
    "learn.fit(lrs, 1, wds=wd, cycle_len=1, use_clr=(8,3))"
   ]
  },
  {
   "cell_type": "code",
   "execution_count": null,
   "metadata": {},
   "outputs": [],
   "source": [
    "# save our first classifier\n",
    "learn.save('clas_0')"
   ]
  },
  {
   "cell_type": "code",
   "execution_count": null,
   "metadata": {},
   "outputs": [],
   "source": [
    "# load it back in\n",
    "learn.load('clas_0')"
   ]
  },
  {
   "cell_type": "code",
   "execution_count": null,
   "metadata": {},
   "outputs": [],
   "source": [
    "# unfreeze one more layer\n",
    "learn.freeze_to(-2)"
   ]
  },
  {
   "cell_type": "code",
   "execution_count": null,
   "metadata": {},
   "outputs": [],
   "source": [
    "learn.fit(lrs, 1, wds=wd, cycle_len=1, use_clr=(8,3))"
   ]
  },
  {
   "cell_type": "code",
   "execution_count": null,
   "metadata": {},
   "outputs": [],
   "source": [
    "# save our second classifier\n",
    "learn.save('clas_1')"
   ]
  },
  {
   "cell_type": "code",
   "execution_count": null,
   "metadata": {},
   "outputs": [],
   "source": [
    "# load it back in\n",
    "learn.load('clas_1')"
   ]
  },
  {
   "cell_type": "code",
   "execution_count": null,
   "metadata": {},
   "outputs": [],
   "source": [
    "# unfreeze all layers so we're training the whole network\n",
    "learn.unfreeze()"
   ]
  },
  {
   "cell_type": "code",
   "execution_count": null,
   "metadata": {},
   "outputs": [],
   "source": [
    "learn.fit(lrs, 1, wds=wd, cycle_len=1, use_clr=(32,10))"
   ]
  },
  {
   "cell_type": "code",
   "execution_count": null,
   "metadata": {},
   "outputs": [],
   "source": [
    "# plot out our loss\n",
    "learn.sched.plot_loss()"
   ]
  },
  {
   "cell_type": "code",
   "execution_count": null,
   "metadata": {},
   "outputs": [],
   "source": [
    "# save our final classifier\n",
    "learn.save('clas_2')"
   ]
  },
  {
   "cell_type": "markdown",
   "metadata": {},
   "source": [
    "# Celebrity tweet sentiment"
   ]
  },
  {
   "cell_type": "code",
   "execution_count": 143,
   "metadata": {},
   "outputs": [],
   "source": [
    "# load it back in\n",
    "learn.load('clas_2')"
   ]
  },
  {
   "cell_type": "code",
   "execution_count": null,
   "metadata": {},
   "outputs": [],
   "source": [
    "log_predictions = learn.predict()"
   ]
  },
  {
   "cell_type": "code",
   "execution_count": null,
   "metadata": {},
   "outputs": [],
   "source": [
    "log_predictions[:10]"
   ]
  },
  {
   "cell_type": "code",
   "execution_count": null,
   "metadata": {},
   "outputs": [],
   "source": [
    "preds = np.argmax(log_predictions, axis=1)  # from log probabilities to 0 or 1\n",
    "probs = np.exp(log_predictions[:,1])        # pr(dog)"
   ]
  },
  {
   "cell_type": "code",
   "execution_count": null,
   "metadata": {},
   "outputs": [],
   "source": [
    "preds[:10]"
   ]
  },
  {
   "cell_type": "code",
   "execution_count": null,
   "metadata": {},
   "outputs": [],
   "source": [
    "probs[:10]"
   ]
  },
  {
   "cell_type": "code",
   "execution_count": null,
   "metadata": {},
   "outputs": [],
   "source": [
    "md.val_y[:10]"
   ]
  },
  {
   "cell_type": "markdown",
   "metadata": {},
   "source": [
    "make data loader for predicting"
   ]
  },
  {
   "cell_type": "code",
   "execution_count": null,
   "metadata": {},
   "outputs": [],
   "source": [
    "md.val_ds.y[:10]"
   ]
  },
  {
   "cell_type": "code",
   "execution_count": null,
   "metadata": {},
   "outputs": [],
   "source": [
    "md.val_ds.x"
   ]
  },
  {
   "cell_type": "code",
   "execution_count": null,
   "metadata": {},
   "outputs": [],
   "source": [
    "x = md.val_ds.x[:5]\n",
    "y = md.val_ds.y[:5]"
   ]
  },
  {
   "cell_type": "code",
   "execution_count": null,
   "metadata": {},
   "outputs": [],
   "source": [
    "test_ds = TextDataset(x, y)\n",
    "\n",
    "# doesn't matter so much for the validation set\n",
    "# val_sampler = SortSampler(val_classification, key=lambda x: len(val_classification[x]))\n",
    "\n",
    "# val_dl = DataLoader(val_ds, bs, transpose=True, num_workers=1, pad_idx=1, sampler=val_sampler)\n",
    "test_dl = DataLoader(test_ds, bs, transpose=True, num_workers=1, pad_idx=1)"
   ]
  },
  {
   "cell_type": "code",
   "execution_count": null,
   "metadata": {},
   "outputs": [],
   "source": [
    "log_preds = learn.predict_dl(test_dl)"
   ]
  },
  {
   "cell_type": "code",
   "execution_count": null,
   "metadata": {},
   "outputs": [],
   "source": [
    "log_preds"
   ]
  },
  {
   "cell_type": "code",
   "execution_count": null,
   "metadata": {},
   "outputs": [],
   "source": [
    "np.argmax(log_preds, axis=1)"
   ]
  },
  {
   "cell_type": "code",
   "execution_count": 120,
   "metadata": {},
   "outputs": [],
   "source": [
    "# load our celebrity tweets\n",
    "celebrity_df = pd.read_csv('/home/ubuntu/data/twitter/celebrity_tweets.csv', header=None)\n",
    "celebrity_df_ints = pd.read_csv('/home/ubuntu/data/twitter/celebrity_tweets_ints.csv', header=None)"
   ]
  },
  {
   "cell_type": "code",
   "execution_count": null,
   "metadata": {},
   "outputs": [],
   "source": []
  },
  {
   "cell_type": "code",
   "execution_count": 121,
   "metadata": {},
   "outputs": [],
   "source": [
    "celebrity_tokens, _ = get_texts(celebrity_df_ints, 0)"
   ]
  },
  {
   "cell_type": "code",
   "execution_count": 122,
   "metadata": {},
   "outputs": [
    {
     "data": {
      "text/plain": [
       "15833"
      ]
     },
     "execution_count": 122,
     "metadata": {},
     "output_type": "execute_result"
    }
   ],
   "source": [
    "int_to_token = pickle.load(open(LANGUAGE_MODEL_PATH + '/tmp/itos.pkl', 'rb'))\n",
    "token_to_int = collections.defaultdict(lambda: 0, {v:k for k, v in enumerate(int_to_token)})\n",
    "len(int_to_token)"
   ]
  },
  {
   "cell_type": "code",
   "execution_count": 123,
   "metadata": {},
   "outputs": [],
   "source": [
    "celebrity_classification = np.array([[token_to_int[o] for o in p] for p in celebrity_tokens])"
   ]
  },
  {
   "cell_type": "code",
   "execution_count": 144,
   "metadata": {},
   "outputs": [],
   "source": [
    "celebrity_ds = TextDataset(celebrity_classification, np.zeros(len(celebrity_classification), dtype=int))\n",
    "\n",
    "celebrity_dl = DataLoader(celebrity_ds, bs, transpose=True, num_workers=1, pad_idx=1)"
   ]
  },
  {
   "cell_type": "code",
   "execution_count": 146,
   "metadata": {},
   "outputs": [],
   "source": [
    "log_preds = learn.predict_dl(celebrity_dl)"
   ]
  },
  {
   "cell_type": "code",
   "execution_count": 147,
   "metadata": {},
   "outputs": [
    {
     "data": {
      "text/plain": [
       "(2358, 2)"
      ]
     },
     "execution_count": 147,
     "metadata": {},
     "output_type": "execute_result"
    }
   ],
   "source": [
    "log_preds.shape"
   ]
  },
  {
   "cell_type": "code",
   "execution_count": 148,
   "metadata": {},
   "outputs": [],
   "source": [
    "preds = np.argmax(log_preds, axis=1)  # from log probabilities to 0 or 1\n",
    "probs = np.exp(log_preds[:,1])        # pr(dog)"
   ]
  },
  {
   "cell_type": "code",
   "execution_count": 149,
   "metadata": {},
   "outputs": [
    {
     "data": {
      "text/plain": [
       "array([1, 1, 1, ..., 1, 1, 1])"
      ]
     },
     "execution_count": 149,
     "metadata": {},
     "output_type": "execute_result"
    }
   ],
   "source": [
    "preds"
   ]
  },
  {
   "cell_type": "code",
   "execution_count": 155,
   "metadata": {},
   "outputs": [],
   "source": [
    "celebrity_df = celebrity_df.assign(sentiment=pd.Series(preds))"
   ]
  },
  {
   "cell_type": "code",
   "execution_count": 161,
   "metadata": {},
   "outputs": [],
   "source": [
    "celebrity_to_tweets = {}\n",
    "for index, row in celebrity_df.iterrows():\n",
    "    if row[0] not in celebrity_to_tweets:\n",
    "        celebrity_to_tweets[row[0]] = []\n",
    "    else:\n",
    "        celebrity_to_tweets[row[0]].append({\n",
    "            'tweet': row[1],\n",
    "            'sentiment': row['sentiment']\n",
    "        })"
   ]
  },
  {
   "cell_type": "code",
   "execution_count": 163,
   "metadata": {},
   "outputs": [
    {
     "name": "stdout",
     "output_type": "stream",
     "text": [
      "BarackObama 0.6448863636363636\n",
      "realDonaldTrump 0.6454293628808865\n",
      "KimKardashian 0.7915194346289752\n",
      "BillGates 0.6658031088082902\n",
      "Check your answer here: nan\n",
      "Oprah 0.820580474934037\n",
      "justinbieber 0.9065040650406504\n",
      "Beyonce 1.0\n",
      "TheRock 0.8858858858858859\n"
     ]
    },
    {
     "name": "stderr",
     "output_type": "stream",
     "text": [
      "/home/ubuntu/src/anaconda3/envs/fastai/lib/python3.6/site-packages/numpy/core/fromnumeric.py:2920: RuntimeWarning: Mean of empty slice.\n",
      "  out=out, **kwargs)\n",
      "/home/ubuntu/src/anaconda3/envs/fastai/lib/python3.6/site-packages/numpy/core/_methods.py:85: RuntimeWarning: invalid value encountered in double_scalars\n",
      "  ret = ret.dtype.type(ret / rcount)\n"
     ]
    }
   ],
   "source": [
    "for screen_name, tweets in celebrity_to_tweets.items():\n",
    "    avg_sentiment = np.mean([t['sentiment'] for t in tweets])\n",
    "    print(screen_name, avg_sentiment)"
   ]
  },
  {
   "cell_type": "code",
   "execution_count": 165,
   "metadata": {},
   "outputs": [
    {
     "data": {
      "text/plain": [
       "[{'tweet': 'Thank ya K! 🙏🏾❤️ Preciate you rockin w us. @BallersHBO',\n",
       "  'sentiment': 1},\n",
       " {'tweet': 'Thank you 🙏🏾\\nWe’re proudly @HBO’s #1 half hour show for years now.',\n",
       "  'sentiment': 1},\n",
       " {'tweet': 'Thx for watchin’ tonight 👊🏾 @BallersHBO', 'sentiment': 1},\n",
       " {'tweet': 'Thank ya Benny Boy for rockin’ w us. @BallersHBO Tonight @10pm @HBO 👊🏾',\n",
       "  'sentiment': 1},\n",
       " {'tweet': 'Midnight. Iron Paradise. \\nBeen shooting nights all week (9pm-6am) on Jungle Cruise so my hours are all turned around come Saturday night. \\nTwo choices: \\nCup of tea to relax and watch…',\n",
       "  'sentiment': 1},\n",
       " {'tweet': '* swipe left for my crazyrichasians connection.\\nHuge congratulations to my brotha from another, @jonmchu for directing such a brilliant and defining film, #CrazyRichAsians. \\nIt’s a…',\n",
       "  'sentiment': 1},\n",
       " {'tweet': '@vulture @farahbrook Me and Farah know how wonderful Twitter is as an outlet to assuage our anxiety. Especially when telling someone to fuck off. It’s quite beautiful 😂',\n",
       "  'sentiment': 1},\n",
       " {'tweet': '@OhHiRalphJones Happy Birthday Dumbass. And by dumbass you know I mean “homeboy” right!? Lol Hope you had a great one!!',\n",
       "  'sentiment': 1},\n",
       " {'tweet': '6’5 280lbs of hungry nightmare (or thirsty dream pending one’s perspective). Also not sure why I thought shaving my goatee but keep my beard was a good choice 🤦🏽\\u200d♂️ Someone throw chunky smiles over here another waffle. #RookieHeadShot #CFL #Calgary',\n",
       "  'sentiment': 1},\n",
       " {'tweet': '@Knowlesitall @MorningExp @KevinHart4real @MountainDew C’mon Mel.. you and Robin can def talk about Kev’s Mountain Dew enema on live morning TV 🤣 Y’all have a great weekend 👊🏾',\n",
       "  'sentiment': 1},\n",
       " {'tweet': '@myfinewords @markwahlberg @RoarForJess Hi Jess!!! Sending you so much and mana ❤️❤️ \\nDJ Xox',\n",
       "  'sentiment': 1},\n",
       " {'tweet': 'Congrats to my guys @markwahlberg &amp; director, Pete Berg on their movie opening tomorrow. They asked me to co-star in it with Mark, but I don’t like bad ass action movies. I prefer Haiku poetry. Congrats again! #Mile22',\n",
       "  'sentiment': 1},\n",
       " {'tweet': 'Fun box office bet I have going w/ Katz here. \\nAny movie of mine that crosses $250M, I owe him tequila. \\nSkyscraper will cross $300M and now “the winner loses on” (ol’ George Jones reference;). \\nOne of the few a bets I’m happy to lose. Enjoy the bottle dude 🥃🤙🏾 @observer',\n",
       "  'sentiment': 1},\n",
       " {'tweet': 'You’d be surprised Film Fatale just how much the universe conspires in our favor when we have the appetite to do a lot of things. (plus I have a secret twin who does most of my shit, while I just drink my tequila 😈🥃)',\n",
       "  'sentiment': 1},\n",
       " {'tweet': 'Always appreciate the support JR. \\nEnjoy our new season! @BallersHBO \\n(no “steak eaters” allowed)',\n",
       "  'sentiment': 1},\n",
       " {'tweet': 'Thanks for watching the show. 👊🏾 #Ballers', 'sentiment': 1},\n",
       " {'tweet': '@JazmynSimon @teau7 @IssaRae @HBO @insecurehbo 🎤 drop',\n",
       "  'sentiment': 1},\n",
       " {'tweet': 'I appreciate the love Senator Warren. Enjoy our new season tonight and you have a big Rock sized hug coming when I see ya 👊🏾🙏🏾❤️ \\n@BallersHBO',\n",
       "  'sentiment': 1},\n",
       " {'tweet': 'Thanks my friend. Enjoy the new season, the expansion and all my dirty dirty on display for the world to see 😈👊🏾 @BallersHBO Tonight!',\n",
       "  'sentiment': 1},\n",
       " {'tweet': 'Pleasure to have the big man on @BallersHBO. Like all the pro athletes we have on the show, it’s great to hear from them how authentic we are. That’s always the goal. Authentic. Beauty, warts and all 😉 \\nTONIGHT 10pm on @HBO',\n",
       "  'sentiment': 1},\n",
       " {'tweet': '@ChrisCuomo Amen brother. I know you know. Hope you’re great!! 👊🏾',\n",
       "  'sentiment': 1},\n",
       " {'tweet': '✊🏾🔥cue @ballershbo music! \\nTONIGHT 10pm on @HBO the #1 hottest show of the summer is back! \\nThe revolution begins. \\nAnd I’m gonna take the establishment and all their greedy no good motherf*ckers down one by one and brick by brick. \\nIt’s personal.\\n#ballers TONIGHT 10pm HBO',\n",
       "  'sentiment': 1},\n",
       " {'tweet': 'Cheers to dreams not coming true 🥃\\nNot an easy concept to process, but the idea that sometimes our biggest and most important dreams that DON’T COME TRUE are often times the BEST THING…',\n",
       "  'sentiment': 1},\n",
       " {'tweet': 'Happy Birthday @chrishemsworth you handsome alien looking SOB! Many people in this world are so grateful you were born - I am not one of them. Enjoy your birthday w/ the ohana my brother…',\n",
       "  'sentiment': 1},\n",
       " {'tweet': '@bullyray5150 @WWE The majority of the global audience I speak to who has no idea what “heel or babyface” means. But they sure as fuck know what “no sell” means which is what I would do every time you would hit me with your finish. 😂 Miss ya you MF \\n#JuniorWhenIGetHome',\n",
       "  'sentiment': 0},\n",
       " {'tweet': 'Defining career moment that eventually broke down barriers in pro wrestling. I returned from injury on @WWE RAW to turn “heel” (bad guy) by joining the Nation of Domination. I said “It ain’t a black or a white thing. Issa me kickin’ your ass thing”. 😈\\n“The Rock” was born ✊🏾',\n",
       "  'sentiment': 0},\n",
       " {'tweet': 'Progress thru pain. \\nAnd thanks for making our #ProjectRock collections @UnderArmour’s #1 seller.\\nWe’re always gonna chalk up failures, \\nbut that never means we lose - big difference. \\nStay strong. Train hard. Enjoy the gear 💪🏾',\n",
       "  'sentiment': 1},\n",
       " {'tweet': 'Some real heat heading into tomorrow’s season premiere of @BallersHBO. On many levels, it’s personal for me. Thanks to everyone who’s rollin’ w/ us. 10pm SUNDAY @HBO ✊🏾\\n',\n",
       "  'sentiment': 1},\n",
       " {'tweet': '🤣👏🏾💪🏾 You reporters better put some respek on Senator Warren’s name - she is READY for our season premiere of @BallersHBO tomorrow night at 10pm on @HBO. Thank you Senator for the support - I feel we’ll deliver our best yet. You have a big Rock sized hug coming when I see u',\n",
       "  'sentiment': 1},\n",
       " {'tweet': 'Wow this means a lot - mahalo! Very cool you worked with Walt Disney himself &amp; Marc Davis, one of Disney’s “9 Old Men”, the core animators for Disney Animation. Myself and Emily Blunt are having a blast making @JungleCruise. We hope to do Walt, Marc &amp; the fans proud 🤙🏾🚢💫',\n",
       "  'sentiment': 1},\n",
       " {'tweet': 'Thanks everyone 🌎 for your reactions to our epically huge @JungleCruise set built entirely from scratch from our Academy Award winning designer, Jean-Vincent Puzos &amp; team. Can’t wait to take you on this adventure. Check it out below 👇🏾👇🏾 🚢🗺🌴',\n",
       "  'sentiment': 1},\n",
       " {'tweet': 'In 3 days. \\nIt’s personal. \\n@BallersHBO 10pm on @HBO \\nTHIS SUNDAY',\n",
       "  'sentiment': 1},\n",
       " {'tweet': '*Watch ’til the end and see one of the most awe inspiring &amp; ginormous movie sets ever built from scratch.\\nWalt Disney, this one’s for you buddy! 🤙🏾💫\\nWelcome to the adventure of a lifetime...\\nDISNEY’S #JUNGLECRUISE🚢🗺❤️',\n",
       "  'sentiment': 1},\n",
       " {'tweet': 'Love this quote about relentless hard work over talent from novelist, James Baldwin. \\n#Endurance @CoryBooker 💪🏾',\n",
       "  'sentiment': 1},\n",
       " {'tweet': '*swipe left. RIP brother. \\nSpent all week trying to process the hard loss of my good bud, Brian Christopher Lawler. \\nHe became a great friend the day I stepped foot in the small wrestling…',\n",
       "  'sentiment': 1},\n",
       " {'tweet': '@AlyssaRosenberg 🎤 drop 💥', 'sentiment': 1},\n",
       " {'tweet': 'Haha thanks for the luv KJ. My career in the @CFL was very short lived but a lifetime of defining lessons. Just take the word from Captain Short Shorts over here 👀👇🏾🤦🏽\\u200d♂️',\n",
       "  'sentiment': 1},\n",
       " {'tweet': '@dajerx Good question and non factor. Truth is as a wrestler I had very little presence in China. It’s not a big wrestling market',\n",
       "  'sentiment': 0},\n",
       " {'tweet': 'Smart biz piece on my strong relationship with China &amp; it’s audience. Started to build our equity 10+ years ago. From my films to my @UnderArmour launches to our future build outs. \\nForward thinking always wins the long term game. @SevenBucksProd \\n',\n",
       "  'sentiment': 1},\n",
       " {'tweet': '@Ben_Baskin Great story Ben! JDW’s a great dude and consider him my lil brother. Hope you’re well 👊🏾',\n",
       "  'sentiment': 1},\n",
       " {'tweet': '@FamilyVideo Very creative usage of your store sign 👏🏾\\nGood to see hard working “mom and pop” businesses making it - especially in the wake of the larger corporate home vid companies folding. Good luck 🍀👍🏾',\n",
       "  'sentiment': 1},\n",
       " {'tweet': '@Kraigisonfire Thx man. Scammers suck. I’ll take care it and thanks for bringing it to my attention',\n",
       "  'sentiment': 1},\n",
       " {'tweet': 'Maybe. 😉👊🏾', 'sentiment': 1},\n",
       " {'tweet': 'Congrats Universal &amp; Comcast on passing $2B. Job well done and thanks for letting me and my crew play in the sandbox. \\n#AudienceFirst @SevenBucksProd',\n",
       "  'sentiment': 1},\n",
       " {'tweet': 'It’s personal. \\n#BrickByBrick \\nGet ready for our new season of @ballershbo. \\nAugust 12th on @HBO 🔥',\n",
       "  'sentiment': 1},\n",
       " {'tweet': 'Join us for the adventure of a lifetime. And I love working with this woman.. and I she loves working with me. \\nI think. \\nAll aboard! DISNEY’S @JungleCruise \\n#ALittleDittyAboutFrankAndLily\\n🚢❤️',\n",
       "  'sentiment': 1},\n",
       " {'tweet': 'Happy tears are always a good thing. Especially when they come from a 6’4 260lb bad ass and the best stuntman in the biz. 🎁\\U0001f91f🏾',\n",
       "  'sentiment': 1},\n",
       " {'tweet': 'Man this is a tough one. \\nSending so much love, light and strength to Jarrod and his Lyle family.',\n",
       "  'sentiment': 1},\n",
       " {'tweet': 'I love working with this woman, the incomparable Emily Blunt. \\n#LittleDittyAboutFrankAndLily \\nWelcome to the adventure of a lifetime... @JungleCruise 🚢 ❤️',\n",
       "  'sentiment': 1},\n",
       " {'tweet': 'SURPRISE! I love handing over keys🔑🎁\\nI love you brother and enjoy your new truck! \\nOver the course of my career, my stunt double (and cousin) Tanoai Reed @tanoai1 has broken multiple…',\n",
       "  'sentiment': 0},\n",
       " {'tweet': '*swipe left and witness the double main-eventer of cheat meals while I get my Netflix fix. \\n6pm - the succulent sushi 🍣 train rolls thru and right into my belly. \\n11pm - homemade cheatin’…',\n",
       "  'sentiment': 1},\n",
       " {'tweet': '@Great_Katzby @observer Skyscraper just crossed $255M WW this past weekend my friend. Someone just won another bet. Tequila time ...',\n",
       "  'sentiment': 0},\n",
       " {'tweet': 'Gettin’ stronger - progress thru pain. \\n455lbs barbell glute/hip thrusts with 5 second hold at the top with hip circle above knees for greater glute activation. \\nThese small gains for me…',\n",
       "  'sentiment': 1},\n",
       " {'tweet': 'Your 10yr old has spectacular taste 😉👏🏾 (and well done showing her “Back to the Future”). #Priorities',\n",
       "  'sentiment': 1},\n",
       " {'tweet': 'Thanks JC! You’re a bad ass and glad you loved SKYSCRAPER. Thanks for moderating for @RawsonThurber &amp; the DGA. 🤙🏾',\n",
       "  'sentiment': 1},\n",
       " {'tweet': '@Tanni_GT @lukecorcoran @chelseyjay Thanks guys for your dialogue. I encourage it and it’s always healthy. Take care and enjoy the movie if you haven’t seen it. We made a good one 👊🏾',\n",
       "  'sentiment': 1},\n",
       " {'tweet': '@Tanni_GT @lukecorcoran @chelseyjay Lastly to contextualize a critical note here, the lead role of Skyscraper was never a role “to be cast”. I, along w/ writer/director @RawsonThurber created the role from scratch, for me to play. My goal was for the world to see amputees as heroic &amp; kick ass. Like the many I know.',\n",
       "  'sentiment': 1},\n",
       " {'tweet': '@Tanni_GT @lukecorcoran @chelseyjay Hi Tanni/group, just seeing all these tweets. I agree and believe we’ll see more disabled actors being cast in films after Skyscraper. I’m encouraged at the dialogue that Skyscraper created and grateful to see the 🌎 disabled/amputee community (by in large) support our film.',\n",
       "  'sentiment': 1},\n",
       " {'tweet': 'Thanks dude! Glad you had fun watching Skyscraper and don’t ever leave home without your dizuck tape!',\n",
       "  'sentiment': 1},\n",
       " {'tweet': '🙏🏾💎\\nWe’re growing the #ProjectRock brand very nicely with our hungry @UnderArmour partners within their walls - much like Air Jordan within @Nike. But it’s beyond accomplishments on the court, field, slope or ring. \\nIt’s earning success - at life. \\n#HardestWorkersInTheRoom',\n",
       "  'sentiment': 1},\n",
       " {'tweet': '😂👏🏾 just seeing this dude! Well you’re still in college so you have time to “hang out”.. those days waved bye bye to me long ago. But how our this.. the next time I drink my tequila (tonight) I’ll raise a glass and toast to “my pretend hang out buddy Jordan” 🤙🏾👊🏾🥃',\n",
       "  'sentiment': 1},\n",
       " {'tweet': '@RollingStone He’s one of my favs! “Lovable losers and no account boozers”',\n",
       "  'sentiment': 0},\n",
       " {'tweet': 'Surprise! \\nSkyscraper🐉 is a box office hit. \\nThank U @Forbes &amp; @boxofficejim for the smart/refreshing journalism. \\nWhat I’m most proud of is our @SevenBucksProd’s Jumanji, Rampage &amp; Skyscraper earning $1.6billion+ in 7 months. \\n#Historic #AudienceFirst  \\n',\n",
       "  'sentiment': 1},\n",
       " {'tweet': '@nancywyuen Thank you so much Nancy! Our story was an homage to Chinese culture &amp; fable (the ambition of The Pearl🐉 ) and one of our main anchors. Glad you liked the film 🙏🏾👊🏾',\n",
       "  'sentiment': 1},\n",
       " {'tweet': 'Grateful to the fans 🌎\\nAmazing Skyscraper news in our second weekend 👏🏾🙏🏾🔥🔥\\nMy second biggest opening in China ever (almost $50m) \\nSkyscraper becomes the #1 grossing movie in the world this week ($86m). \\nSlow US start, big global rebound. \\n#PlayTheGlobalGame #AudienceFirst',\n",
       "  'sentiment': 1},\n",
       " {'tweet': '@khloekardashian @red_bone1991 I was like “ohh Khloe’ wishing me a happy birthday?? It ain’t my birthday but it is today then” 😂🙋🏾\\u200d♂️🤙🏾 \\n\\nHappy Bornday @red_bone1991 😉🙌🏾',\n",
       "  'sentiment': 1},\n",
       " {'tweet': 'Great hangin’ w you Jamila in Hong Kong. Thanks for your time and see ya down that road 🤙🏾👊🏾 #Skyscraper',\n",
       "  'sentiment': 1},\n",
       " {'tweet': '@rachelbogle Your brow ain’t ready for my brow lol;)',\n",
       "  'sentiment': 1},\n",
       " {'tweet': '@shannonmiller96 Hahah love this!! Your ❤️s are killin the song Shannon!!;)',\n",
       "  'sentiment': 1},\n",
       " {'tweet': '#1 worldwide baby! C’mon 👊🏾\\nLike many of you, I live AND LOVE to compete. \\nLast weekend, SKYSCRAPER came up a little short here in the US by $5M - tracking had us opening at $30M but we…',\n",
       "  'sentiment': 0},\n",
       " {'tweet': '@brandonlisy @JasonGuerrasio @businessinsider I do have four legs. Its super fucking weird but oddly powerful. It’s a secret tho so don’t tell anyone Brandon',\n",
       "  'sentiment': 0},\n",
       " {'tweet': 'Thanks @JasonGuerrasio &amp; @businessinsider for the smart/informed Skyscraper piece. I made the film as a two quad deliverable to the US (thus the $25m opening), but a 4 quad deliverable in China (thus the almost $50m opening). #1MovieInTheWorld #POV🌎 \\n',\n",
       "  'sentiment': 1},\n",
       " {'tweet': 'A package of gratitude. \\nSKYSCRAPER opens in China this past weekend to almost $50M and becomes the #1 film in the Middle Kingdom. \\nAnd in our second week, we beat all competition to now become the #1 grossing film in the world. It’s a global game my friends. \\n#Skyscraper #1🌎',\n",
       "  'sentiment': 1},\n",
       " {'tweet': 'Means so much to receive praise and approval from the amputee community/disabled audiences for our film. The role gave me such a greater level of empathy, respect and perspective. \\nProud that our central character, in a big budget global film - is a kick ass amputee. The hero.',\n",
       "  'sentiment': 1},\n",
       " {'tweet': '@JLBarrow C’mon man you know better than that. This person never had access to me and never will. \\nIn our 2nd week, Skyscraper has become the #1 grossing movie in the world w/ almost $50M opening in China alone. There is no “flop”. Pure click bait life this writer lives.',\n",
       "  'sentiment': 0},\n",
       " {'tweet': '@NoelleFoley @rampagethemovie Perfect actually! Just missing the blueberry coffee ☕️ 🦍 😉👊🏾',\n",
       "  'sentiment': 1},\n",
       " {'tweet': '@JimmyTraina @JJWatt Haha JJ’s a hungry beast!! Scary when you think about that level of hunger to be back on the field mixed with that level of talent 👀. We texted each other about brands of jeans that fit our quads 😂💪🏾🤦🏽\\u200d♂️ #Quadzillas',\n",
       "  'sentiment': 1},\n",
       " {'tweet': '@Dopameanx Of course I have! The man defines bad ass, leadership and getting everything we can outta life. @jockowillink',\n",
       "  'sentiment': 0},\n",
       " {'tweet': 'Love and appreciate ya always brother X!! 💯 🤙🏾👊🏾', 'sentiment': 1},\n",
       " {'tweet': 'Thank U sir. This means a lot to all of us who made the film and echos the sentiment of the amputee community overall. We were the first summer blockbuster to ever feature an amputee as the hero. Quite proud of that and truly an honor playing the character. #Skyscraper 🌎🙏🏾💪🏾',\n",
       "  'sentiment': 1},\n",
       " {'tweet': '@Captain_Panic31 Thanks man! Happy to chat all movies I’ve done (including the odd ones;). The set of Southland Tales was fun in that it was very unpredictable. The script from writer/director Richard Kelly was ballsy and WTF, but it was also cool &amp; unique. “Pimps don’t commit suicide” 😉👊🏾',\n",
       "  'sentiment': 1},\n",
       " {'tweet': 'Grateful for our #Skyscraper becoming the #1 movie in the world &amp; opening big in China. \\nSlower start in the US as we came in $5m short (estimated $30m but we opened to $25m). Goes to show, you never point to the economic scoreboard til the game is over. \\n',\n",
       "  'sentiment': 1},\n",
       " {'tweet': 'Huge box office news to wake up to 👏🏾👏🏾\\nIn our second week, “SKYSCRAPER” beats all competition to become the #1 movie in the world. \\nAnd a big $48m opening in China (2nd biggest of my career). \\nThank you world for the luv 🌎❤️\\U0001f91f🏾\\n',\n",
       "  'sentiment': 1},\n",
       " {'tweet': 'Been my inside joke for years now, but if you’re ever in a conversation with me and I hit you with the “I love you” sign \\U0001f91f🏾 and follow it up with a “I gotchu bruddaaah” or “I gotchu…',\n",
       "  'sentiment': 1},\n",
       " {'tweet': '@TiffinyHall Twinsies 😉💪🏾', 'sentiment': 1},\n",
       " {'tweet': 'Thank you Ana! Glad you had fun with #Skyscraper and cheers to more rolls of duct tape 😉👊🏾',\n",
       "  'sentiment': 1},\n",
       " {'tweet': '@jfwong Doh!!! Thx dude 🤦🏽\\u200d♂️😂', 'sentiment': 1},\n",
       " {'tweet': 'Thank you sir. Appreciate your words and more so, appreciate your service to our country. #ForwardMovement',\n",
       "  'sentiment': 1},\n",
       " {'tweet': 'The fact that you rented a helicopter to fly you from Honolulu to Maui just to try my FAV cookie spot for your cheat day, makes me so damn proud of you brotha 🤣🤣 🍪 🍪 💪🏾💪🏾💪🏾 Enjoy my friend! #CheatDayBoss #LUDA \\nMahalo to my sistah @mauicookielady for being the best!',\n",
       "  'sentiment': 1},\n",
       " {'tweet': '@whackkat Why yes I am.', 'sentiment': 0},\n",
       " {'tweet': '@joshgad @KevinMcCarthyTV Incredible brother 🙏🏾', 'sentiment': 1},\n",
       " {'tweet': '*swipe left \\nAfter years of relentless hard work, lil’ bit of luck, successes, failures, more failures and more successes, my career just achieved a pretty awesome milestone - the highest…',\n",
       "  'sentiment': 1},\n",
       " {'tweet': '@Great_Katzby @observer Thx brother enjoy Skyscraper! I don’t know man, this one is a tougher 2 quadrant sell during a summer of 4 quad movies. We’ll see. Either way, one of us is raising a glass 😉🥃',\n",
       "  'sentiment': 1},\n",
       " {'tweet': '@PamelaDuecaaste Aaaah sweet! Thanks Pammy Pam Pam;) 👊🏾',\n",
       "  'sentiment': 1},\n",
       " {'tweet': '@JCD1219NY @Great_Katzby @observer 😂 🤦🏽\\u200d♂️ you’re a f*cking idiot\\nthank you so much for your intellectual insight, especially considering I always (as in never) compare myself to the men who paved the way before me. And Connery was a good buddy of my grandfathers so spell his name right next time.',\n",
       "  'sentiment': 1},\n",
       " {'tweet': 'I ❤️ this little dried up piece of gremlin shit. \\n@kevinhart4real. \\n@AdamPadilla 😂👏🏾🤙🏾',\n",
       "  'sentiment': 1},\n",
       " {'tweet': 'Me: I’m gonna just fish for compliments all day when I hold you in my arms. \\nBaby Tiana Gia: I’m gonna look up at you with my gummy smile and just love, appreciate and marvel at all this…',\n",
       "  'sentiment': 1},\n",
       " {'tweet': 'Good times in Hong Kong for #Skyscraper with writer/director @RawsonThurber. Thanks @iamyvetteking for the fun interview! 🙏🏾👊🏾',\n",
       "  'sentiment': 1},\n",
       " {'tweet': '🤣 sorry for the #Skyscraper acrophobia stress I caused my man. And pls have the crushed hand lady call me so I can energetically her f*cked up hand. I have special powers 😇 🤚🏾',\n",
       "  'sentiment': 0},\n",
       " {'tweet': 'Thanks @Great_Katzby @observer for this one. I work hard, hope for a lil’ luck &amp; do my best to deliver 🚂🌎\\nSame tequila bet for Skyscraper? \\n',\n",
       "  'sentiment': 1},\n",
       " {'tweet': '@FionaOdlum Get to work!! Stay strong! #DontCry;) 👊🏾',\n",
       "  'sentiment': 1},\n",
       " {'tweet': '@davemac905 @Goldberg I remember this night like it yesterday. First time I ever met the man they call Goldberg!! Good times',\n",
       "  'sentiment': 1},\n",
       " {'tweet': '@juliettekayyem Thank you Juliette and your VERY cool 12yr old boy for choosing Skyscraper \\n😄🙌🏾 \\nEnjoy the film and have a great rest of the summer',\n",
       "  'sentiment': 1},\n",
       " {'tweet': '@Oliviacran13 Pls tell MacKeinzie &amp; her family I’m so sorry to hear that devastating news. Sending our strength and light. Stay strong McKeinzie!!',\n",
       "  'sentiment': 0},\n",
       " {'tweet': 'One of the critical things to remember is big social media followings doesn’t automatically equate to big success. The key is having an authentic relationship with your audience where there’s real trust you’re gonna deliver. And just like a relationship - take care of it 🥂',\n",
       "  'sentiment': 1},\n",
       " {'tweet': 'I support. \\nStay strong Aaron! Like you, my mom was misdiagnosed with a “it’s a sweat gland issue, you’ll be fine” to actually having stage 3B lung cancer. Stay strong and we support you. #aaronsbattle',\n",
       "  'sentiment': 1},\n",
       " {'tweet': 'Great growth 🌎 \\nMy goal with social media was to not just play in the game, but rather change the way the game is played. Disrupt traditional marketing methods and create an authentic connective tissue between myself and my audiences. Send them home happy, and I’ve done my job.',\n",
       "  'sentiment': 1},\n",
       " {'tweet': '@SarahBrouns 🙏🏾❤️👊🏾 Glad you loved it!! Skyscraper was always a harder sell here in the US during the summer with big, fun franchises. We open in China this weekend so we’ll see how we do! Thx again for the luv 🤙🏾',\n",
       "  'sentiment': 1},\n",
       " {'tweet': 'Congrats dude and glad you loved Skyscraper! Thanks for having fun with me 👊🏾',\n",
       "  'sentiment': 1},\n",
       " {'tweet': 'Me: I’m gonna just fish for compliments all day when I hold you in my arms. \\nBaby Tiana Gia: I’m gonna look up at you with my gummy smile and just love, appreciate and marvel at all this…',\n",
       "  'sentiment': 1},\n",
       " {'tweet': 'Great kid! Did a superb job in SKYSCRAPER playing my son. Way to put in the hard work @NoahCottrell4. We’re all proud of you! 👊🏾',\n",
       "  'sentiment': 1},\n",
       " {'tweet': 'Thanks for having me on. Really enjoyed our time. \\nWe all go thru it and despite what we’re feeling.. we’re never alone. \\n@oprah’s Master Class',\n",
       "  'sentiment': 1},\n",
       " {'tweet': '@viceroy Love it. Thanks dude. I usually open up every meeting with these words. It’s quite effective 😉👊🏾',\n",
       "  'sentiment': 1},\n",
       " {'tweet': '@grahamflanagan @businessinsider I love @businessinsider and we have a great relationship. But you and I have nothing to discuss. You initiated. I responded with gospel. Like every promo I did with Jericho 😂 *inserts non existent “bring it” emoji',\n",
       "  'sentiment': 1},\n",
       " {'tweet': '@neekelita Thx U!! ❤️👊🏾', 'sentiment': 1},\n",
       " {'tweet': 'Unforgettable time spent with amputees, Dr’s &amp; friends showing them SKYSCRAPER. Thank you for the love and support of our film and me playing an amputee. But most importantly, thank you for amazing and enlightening dialogue we were able to have after the movie. 🙏🏾❤️',\n",
       "  'sentiment': 1},\n",
       " {'tweet': '@grahamflanagan Possibly buddy but I wouldn’t take that risk in the summer with families. Denzel can go rated R with Equalizer2 this weekend since it’s an established IP. Truth is Skyscraper was always only a two quad film I tried to expand but ultimately couldn’t (thus the $25m opening).',\n",
       "  'sentiment': 0},\n",
       " {'tweet': '🔥 Thank you brotha Tech for the luv! If my movie can stress out the OG King I’ve done my job!! Appreciate U brethren! #Skyscraper',\n",
       "  'sentiment': 1},\n",
       " {'tweet': 'Thank you @CNET. A good year of growth. Gotta continue to put in the work, stay humble/hungry and always operate with the main goal top of mind — always take care of the audience first. \\nTequila’s on me tonight 😄🥃',\n",
       "  'sentiment': 1},\n",
       " {'tweet': 'Thanks @forbes. \\nGood insight into the power of social media and the critical connective tissue is provides for your audience. It’s become my #1 asset and direct, authentic line of communication my audience around the world. Exciting to see how we grow platforms. #connection',\n",
       "  'sentiment': 1},\n",
       " {'tweet': 'Haha thanks dude for tweeting what I was thinking. But hey no heat to that @variety writer. It’s a clickbait world these days and many owe rent 😂🤷🏾\\u200d♂️',\n",
       "  'sentiment': 1},\n",
       " {'tweet': '@SaraJBenincasa @SabrinaSee A lot of luv going around ;). Happy Birthday Sabrina!! Have fun, eat cake, get drunk.. maybe? 😂👏🏾 🍰',\n",
       "  'sentiment': 1},\n",
       " {'tweet': '@stacylwhitman Mahalo Stace! I think you’ll like our film! Enjoy 🤙🏾👊🏾',\n",
       "  'sentiment': 1},\n",
       " {'tweet': 'Aw man I’m sorry to hear about your wife’s passing. Glad I could provide a little lift for a few hours. Stay strong and we’re all sending light your way 👊🏾',\n",
       "  'sentiment': 0},\n",
       " {'tweet': 'We’re all in the same game, just different levels. Dealing with the same hell, just different devils. \\n\\n@HBO’s #1 rated hit show returns with an ALL NEW SEASON of @BallersHBO.  \\n\\nThank you for rockin’ with us.. it’s time to light it up 🔥\\n\\n#Ballers @SevenBucksProd \\n10PM AUG 12th',\n",
       "  'sentiment': 1},\n",
       " {'tweet': '@qstormprowres Enjoy the movie brother! 👊🏾', 'sentiment': 1},\n",
       " {'tweet': '@Howsito Hahah very true my friend 👊🏾', 'sentiment': 1},\n",
       " {'tweet': 'Wow thanks D. \\nI was an 18yrs old freshman at THE U and to quote my defensive line coach, I was full of “piss, vinegar &amp; upper body violence”. \\nYears later I’m still full of two of those things.. not sure what happened to the vinegar or why it was even in the conversation 😂🤘🏾',\n",
       "  'sentiment': 1},\n",
       " {'tweet': '@SusanLiTV Hi Susan, Jumanji’s body swapping concept w/ teens is very similar to Rampage’s mutated monsters infected with CRISPR technology which is also similar to Skyscraper’s plot of an amputee with survivors guilt trying to save his kidnapped family. 💁🏾\\u200d♂️😂🤦🏾\\u200d♂️❤️',\n",
       "  'sentiment': 1},\n",
       " {'tweet': '@JillianMichaels Thx you sistah! Much luv always sent your way!!',\n",
       "  'sentiment': 1},\n",
       " {'tweet': 'Appreciate you champ! As you know, any success never happens alone. I have a very hungry and smart team I surround myself with. See you down the road! Tequila and dead cow on me 😉👊🏾',\n",
       "  'sentiment': 0},\n",
       " {'tweet': 'Always appreciate you brother J and thanks for chopping it up w me on your show 🤙🏾👊🏾 #OffScript',\n",
       "  'sentiment': 1},\n",
       " {'tweet': 'My dude. 1 luv brotha. \\n#OGDubJ \\U0001f928👊🏾', 'sentiment': 1},\n",
       " {'tweet': '@mikeryan @briantruitt @TheMattFowler @AshCrossan @ajhan @ericsketch @BrianLynch @CodyRhodes @jhoffman I’m down. R2.0 the BAMF version.',\n",
       "  'sentiment': 1},\n",
       " {'tweet': 'THANK YOU everyone for the SKYSCRAPER luv this past weekend. \\nFor the first time ever, in a summer blockbuster, the lead character is an amputee. \\nNot a villain, but the hero. \\nAnd for the first time in one of my movies, the FEMALE LEAD is the one SAVING ME.\\n#GThang 😉💪🏾',\n",
       "  'sentiment': 1},\n",
       " {'tweet': 'Thank ya Janice. Means a lot. \\nYou guys (news outlets) are in the swirl of it all when it comes to politics. I try and stay outta the sludge and always put people/the audience first. Appreciate the luv. Luv back 🤙🏾👊🏾',\n",
       "  'sentiment': 1},\n",
       " {'tweet': 'Thx ya D! It was great meeting you in the crazy streets lol and thank you for the awesome artwork 👊🏾🙏🏾',\n",
       "  'sentiment': 1},\n",
       " {'tweet': 'Wow unexpected news. \\nI don’t have a Harvard MBA, but my business philosophy has been sharpened over time and thru failure. I have one boss I serve and connect with - the world and the people in it. I’m the dude who started w/ $7bucks. I’m awestruck ($124M) grateful &amp; hungry.',\n",
       "  'sentiment': 0},\n",
       " {'tweet': 'True story, I heard this quote when I was 15 and thought “man if I’m ever important one day, I want to make it a point to be kind and nice”. \\nI don’t know if I’m “important” these days, but I can tell you that being nice and kind to people is LITERALLY the easiest thing to do.',\n",
       "  'sentiment': 1},\n",
       " {'tweet': 'Great meeting you too man. And thanks for sharing your tech talent with us. Helluva positive day we had! #SkyscraperSurprise #AmputeeCoalition #XBox',\n",
       "  'sentiment': 1},\n",
       " {'tweet': 'When I first broke into Hollywood, the best thing I felt I could do was learn the business from top to bottom, 360 degrees. Every aspect. \\nMaking me a greater overall asset &amp; eventual enterprise. Pleasure to share my insight w/ @oprah’s MasterClass on #ApplePodcasts',\n",
       "  'sentiment': 1},\n",
       " {'tweet': 'Great SKYSCRAPER review! Thanks @mrsingleton for the dope take. “Don’t overthink it” just enjoy the pure escapism. Spoken like a true FAN of all genres of movies - like me and my team. Plus, my nickname as a kid was, Dewey as well, so bam. #TheCoolKids 👊🏾😈',\n",
       "  'sentiment': 1},\n",
       " {'tweet': 'Very special day. Thank you to our amazing @Microsoft and @Xbox partners who put some cool smiles on some awesome people. 🙏🏾👊🏾 \\n#SkyscraperSurprise',\n",
       "  'sentiment': 1},\n",
       " {'tweet': 'Haha you know it! \\nI told her, “Blood, sweat &amp; respect honey.. the first two you give the last one you earn, now kick your legs” \\nShe said, “I like it your brown boobies daddy” 😂🤦🏽\\u200d♂️\\nI’ll have her ready for 2036. #TeamUSA 💪🏾',\n",
       "  'sentiment': 1},\n",
       " {'tweet': 'Great to recharge the batteries this weekend, back home with all my girls and teaching this lil’ tornado how to swim. \\nTook my shirt off and she said, Daddy I like it your brown boobies..…',\n",
       "  'sentiment': 1},\n",
       " {'tweet': 'A crisp and cool 99 degrees in the IRON PARADISE this weekend. \\nWelcome to hell my friends. \\nWhere I say — Devil just come on back if you ever wanna try again...I done told you once you…',\n",
       "  'sentiment': 1},\n",
       " {'tweet': '*swipe left \\nI got the best job in the world and I’m the luckiest SOB on the planet. \\n#AmputeeStrong #AmputeeCoalition \\n#RUSK\\n#Microsoft \\n#XBox \\n#LangoneHospitalNYC\\n#SKYSCRAPERSurprise…',\n",
       "  'sentiment': 1},\n",
       " {'tweet': 'Thank you Wall Street Journal &amp; LA Times for the SKYSCRAPER 👍🏾🔥\\nAnd a HUGE THANK YOU to everyone who saw the movie this weekend!\\nThrilled you loved it! \\nAnd for the record, “Towering…',\n",
       "  'sentiment': 1},\n",
       " {'tweet': '@KevinMcCarthyTV @RawsonThurber Thx you my man! You would’ve loved being in the room and chopping up the movie with them. It was incredible!!',\n",
       "  'sentiment': 1},\n",
       " {'tweet': 'Ready to drop blood, sweat &amp; earn respect? Check out my new \\u2066@Spotify\\u2069 playlist I curated #IronParadiseAirwaves. I’m constantly adding and removing tracks based on my gym needs for the day. Dig it. (the dropping blood part is optional 😉💪🏾) ',\n",
       "  'sentiment': 1},\n",
       " {'tweet': 'Enjoy the movie you filthy animal! #Skyscraper 💪🏾',\n",
       "  'sentiment': 1},\n",
       " {'tweet': 'Thank ya man. Appreciate the SKYSCRAPER luv. Enjoy the movie and yup, new season of @BallersHBO coming up next month!! 👊🏾',\n",
       "  'sentiment': 1},\n",
       " {'tweet': '@Geminitwin123 Let me take you to school 😂🤦🏽\\u200d♂️\\nRampage (white t shirt) was based off a monster video game set in Chicago wreaking havoc. Skyscraper (blue button up) is set in a burning Skyscraper where my family is held hostage. As Kevin Hart would say, “sit your dumb ass down”',\n",
       "  'sentiment': 0},\n",
       " {'tweet': '🙏🏾❤️ Playing an amputee was a privilege and spending some time with you all was an honor. Thank you for being so gracious to @RawsonThurber and myself. We’re thrilled you loved our film. #SkyscraperSurprise \\n(moments like this will always, always be the best part of fame)',\n",
       "  'sentiment': 1},\n",
       " {'tweet': '🙏🏾❤️', 'sentiment': 1},\n",
       " {'tweet': '🙏🏾❤️', 'sentiment': 1},\n",
       " {'tweet': 'Have fun homeboy. Sorry in advance for the vertigo it causes you. #Skyscraper',\n",
       "  'sentiment': 0},\n",
       " {'tweet': 'Congratulations France!!! What an inspiring and well earned win for the team and country!! And huge respect to Croatia as well. You’ll come back stronger. Enjoy the win France!!\\n#WorldCup2018 🇫🇷 👏🏾👏🏾🏆',\n",
       "  'sentiment': 1},\n",
       " {'tweet': 'Great idea, but if I teamed up with @Sethrogen and @KevinHart4real to remake “Three Men and a Baby”, technically we’d have to call it “Two Men and a lil shit head” 👨🏽👨👶🏾',\n",
       "  'sentiment': 1},\n",
       " {'tweet': 'Mahalo and luv y’all back. Please enjoy resting thy head on the 16th Century Rock pillow whilst you all enjoy SKYSCRAPER 👊🏾',\n",
       "  'sentiment': 1},\n",
       " {'tweet': 'Sometimes you don’t know the deeper meaning of something, until you actually FEEL what that deeper meaning truly is. Easily the most important moment of this @SKYSCRAPERMovie journey w/ @rawsonthurber. Thx U @nyulangone RUSK REHABILITATION and @Xbox! #SKYSCRAPERSurprise ❤️🙏🏾',\n",
       "  'sentiment': 1},\n",
       " {'tweet': '@TiffanysTweets @AnastasiaW Dude thank you! You’re the best Tiff! “Sweaty palms” is chatroom name lol. Glad you guys had fun and look forward to seeing you down the road!! 👊🏾',\n",
       "  'sentiment': 1},\n",
       " {'tweet': 'Wow thank you @AngelicaFlori0 for this insightful piece into our SKYSCRAPER. 💡 \\nYou’re 💯 right. I wanted to play a dad who was there from the beginning and not just when shit hit the fan. \\n',\n",
       "  'sentiment': 1},\n",
       " {'tweet': 'Thank you so much. My goal was be authentic and do right by those who face the challenges of disabilities. Your words mean a lot to me - thank you. DJ',\n",
       "  'sentiment': 1},\n",
       " {'tweet': 'Thank you @CNN’s @frankpallotta for this insightful story. Crazy to read my career box office total is nearing the $10billion mark. I love working my ass off and entertaining people on a global scale. #grateful \\n',\n",
       "  'sentiment': 1},\n",
       " {'tweet': '👏🏾 🍿 Thank ya man and happy the movie stressed you out 😉🤙🏾\\n#SKYSCRAPER',\n",
       "  'sentiment': 1},\n",
       " {'tweet': 'Very cool you picked up on this and yes, it was. Our “hall of mirrors” concept was inspired by Bruce Lee’s Enter The Dragon 🐉 \\n#Skyscraper',\n",
       "  'sentiment': 1},\n",
       " {'tweet': 'Hah a lil’ of both Tiff!;) It’s a suspenseful ride #Skyscraper',\n",
       "  'sentiment': 1},\n",
       " {'tweet': 'Great taste in movies and shirts 🤣👊🏾 Glad you guys loved it. #SKYSCRAPER',\n",
       "  'sentiment': 1},\n",
       " {'tweet': 'I do need a shower after all that shit lol. Cheers 🍻! #SKYSCRAPER',\n",
       "  'sentiment': 0},\n",
       " {'tweet': '👏🏾👏🏾 very optimal Robyn!;) Enjoy! \\n#SKYSCRAPER', 'sentiment': 1},\n",
       " {'tweet': 'When I grow up, I want the same as well lol. Thank you bud! \\n#SKYSCRAPER',\n",
       "  'sentiment': 1},\n",
       " {'tweet': 'BD! We ‘preciate ya! #SKYSCRAPER', 'sentiment': 1},\n",
       " {'tweet': 'Thank ya sir 🤙🏾 #Skyscraper', 'sentiment': 1},\n",
       " {'tweet': 'Wow means a lot. Thx uso! Glad you loved the movie. #Skyscraper',\n",
       "  'sentiment': 1},\n",
       " {'tweet': '👊🏾 #Skyscraper', 'sentiment': 1},\n",
       " {'tweet': 'Haha glad I could change your mind. “Yep” ;) #Skyscraper',\n",
       "  'sentiment': 1},\n",
       " {'tweet': 'Thank you Court!! #Skyscraper', 'sentiment': 1},\n",
       " {'tweet': 'Thanks dude! Sorry, not sorry bout giving you vertigo a bunch of times. 😂🤙🏾 Glad ya loved Skyscraper',\n",
       "  'sentiment': 1},\n",
       " {'tweet': '@Keah_Maria Thx U K!! 🙏🏾❤️', 'sentiment': 1},\n",
       " {'tweet': '😂😂 “non stop pucker factor” was part of my mission statement when I made SKYSCRAPER. Thrilled you and your boy had a blast! Sorry he pee’d a little. Kev Hart did the same thing last night.',\n",
       "  'sentiment': 0},\n",
       " {'tweet': 'Haha oh trust me brother.. the “fun” we would have is a massive understatement. Second only to the fun, the world would have watching us on screen together. One day we’ll make it happen. Pumped up for #MI6Fallout 👊🏾',\n",
       "  'sentiment': 1},\n",
       " {'tweet': 'Thank ya man and thanks for checking out my flick 🙏🏾👊🏾 #Skyscraper \\n(keep kickin ass!)',\n",
       "  'sentiment': 1},\n",
       " {'tweet': '@IAMANITABAKER 7 bucks.. we’ve all been there. On a side note, I’m a huge fan and you were my first concert I ever went to when you came to Honolulu, HI to perform in ‘87. I’m 1,000% sure you looked right at me and sang “you bring me joy” 😂🙏🏾',\n",
       "  'sentiment': 1},\n",
       " {'tweet': '@robbieglover Congrats on your album dude! Cool stuff and I dig the funk 👊🏾 #OnThaGoodFoot!! 😉',\n",
       "  'sentiment': 1},\n",
       " {'tweet': '@Lesdoggg @BMcStyle_ @nbcsnl Faaaaaack yes sistaaaah!!! Arm Day = Lucky day! Congrats 👏🏾👏🏾👊🏾',\n",
       "  'sentiment': 1},\n",
       " {'tweet': '@OhMaffew @hhgarcia41 @skyscrapermovie Yeah buddy! Have fun with the flick!!',\n",
       "  'sentiment': 1},\n",
       " {'tweet': 'Brother there’s no way I’m taking a “Saki Bomb” to my face. I like my jaw fully functioning and not knocked into a different are code. \\nWrestling match, yes we can do that. Actually, eff that idea too, I’d rather us go eat dead cow and drink tequila. My treat lol. \\n🤙🏾👊🏾',\n",
       "  'sentiment': 0},\n",
       " {'tweet': 'Love. This. Woman. \\nAnd by woman, I mean @TheEllenShow, not the big, brown, bald tattooed fella. \\nWhat amazing memories!! 🙏🏾🙏🏾❤️',\n",
       "  'sentiment': 1},\n",
       " {'tweet': '1 luv. Enjoy SKYSCRAPER tonight!!\\n#burythehatchetpa',\n",
       "  'sentiment': 1},\n",
       " {'tweet': 'So far the record for highest heart rate while watching SKYSCRAPER is an eyebrows up \\U0001f928 104 👀. \\nShows us what ya reach.. #Vertigo #DontLookDown SKYSCRAPER!',\n",
       "  'sentiment': 1},\n",
       " {'tweet': 'Great SKYSCRAPER review! Thank you LA TIMES (@latimes). “DWAYNE-FERNO” is my new nickname on weekends from the hours of 1230am-348am. While drinking tequila. Cheers 😈🥃\\n',\n",
       "  'sentiment': 1},\n",
       " {'tweet': 'Thank you @WSJ for the great SKYSCRAPER review. Thrilled you had outlandish fun! That was my goal. \\n🔥👊🏾\\n',\n",
       "  'sentiment': 1},\n",
       " {'tweet': 'As only a true friend would say 😉\\U0001f91f🏾 I’m down..',\n",
       "  'sentiment': 0},\n",
       " {'tweet': '@maybeimcrazypod @MichaelRapaport Haha that’s my dude!! Crazy MF!!! I don’t want that Rapaport smoke baby!! 😂🙏🏾',\n",
       "  'sentiment': 1},\n",
       " {'tweet': 'Respectfully, to all the critics who reviewed my SKYSCRAPER - the good, the bad - I take it all\\nHeres the most important review I got from disabled critic @Journeys_Film Thx U!🙏🏾\\nMy character’s issues weren’t below his knee, but rather between his ears. \\n',\n",
       "  'sentiment': 1},\n",
       " {'tweet': '@ThePerezHilton @beauflynn @singingangel_p @PerezHilton @Tyrese Haha good Lord what a conversation to stumble upon. Haters aren’t worth your time Beau.\\nPerez! What up my brother!? Luv u back 👊🏾',\n",
       "  'sentiment': 1},\n",
       " {'tweet': 'Always good chopping it all up with you brotha @iamjamiefoxx.  #SKYSCRAPER #OffScript',\n",
       "  'sentiment': 1},\n",
       " {'tweet': 'Yes!! Very proud of the performances Makenna and Noah delivered in SKYSCRAPER. First movie they ever acted in. Thank you @GMA fam for taking care of them. And good Lord, I can make some good looking mixed race babies 😂 👶🏽 💪🏾',\n",
       "  'sentiment': 1},\n",
       " {'tweet': 'Yes sir SKYSCRAPER is an INTENSE ride. Love the “good shit” rhetoric. Spoken like a true CEO 👊🏾\\nThrilled audiences are loving the movie.',\n",
       "  'sentiment': 1},\n",
       " {'tweet': 'Ha trust me, at that time I hated wrestling in flea markets for $40bucks per match and Waffle House was the only thing I could afford 3xs a day. But these days I’m so grateful that was my life. Valuable lessons learned. And Waffle House will 4ever be my jam 😉🙏🏾🤙🏾 #110Percent',\n",
       "  'sentiment': 0},\n",
       " {'tweet': '🚨 cool fun fact alert 🚨 \\nAs you watch SKYSCRAPER this weekend, know that we hired &amp; consulted closely with the Burj Khalifa’s architect &amp; designer, Adrian Smith. \\nOur movie’s skyscraper, “The Pearl” which dwarfs the Khalifa is based on real possibilities. Remarkable design.',\n",
       "  'sentiment': 1},\n",
       " {'tweet': '@jackgoesforth What? More like idiot pills 😂. In Skyscraper I play an amputee US vet struggling w/ limb loss and survivors guilt and in Jumanji I play a neurotic &amp; skittish 16yr old boy trapped in a video game. As Kevin Hart would say, “sit your dumb ass down”',\n",
       "  'sentiment': 0},\n",
       " {'tweet': 'Dude thank you @matwhi for this piece. Thanks for being insightful. At all my film’s core - there’s always a positive, uplifting and entertaining quality. And a sharp code my character’s have. Action, comedy, drama etc.. they always have an anchor ⚓️\\n',\n",
       "  'sentiment': 1},\n",
       " {'tweet': 'Wow that’s SKYSCRAPER irony! \\U0001f92f\\nThe Burj Khalifa’s architect and designer, Adrian Smith was our consultant when designing our skyscraper called “The Pearl”. \\nOur movie is a suspenseful, white knuckler ride. Glad you enjoyed it tonight, Drew 👊🏾🤙🏾',\n",
       "  'sentiment': 1},\n",
       " {'tweet': 'Glad you loved SKYSCRAPER and thank you sir! If I fall you better not drop me or my dog, Hobbs will be super pissed.',\n",
       "  'sentiment': 1},\n",
       " {'tweet': 'Haha don’t worry the pandas 🐼 lived!! Glad you and sis loved the movie! 🙏🏾\\n#SKYSCRAPER',\n",
       "  'sentiment': 1},\n",
       " {'tweet': 'Means a lot. Thank you! It was my homage and love letter to Bruce &amp; DIE HARD as well homage to McQueen &amp; TOWERING INFERNO \\n#Skyscraper 🔥',\n",
       "  'sentiment': 1},\n",
       " {'tweet': 'Yup 90 heart rate is a good one! The reported record so far is 104 HR from a fan who watched it with their FitBit. Thanks for the pic! \\n#SKYSCRAPER 🔥🔥',\n",
       "  'sentiment': 1},\n",
       " {'tweet': 'Thank you Shilpa!!! \\n“Sweaty palms and edge of your seat” is always a good thing in the theater. That’s been audiences’ sentiment 🤙🏾🙌🏾 Appreciate U! \\nSKYSCRAPER!',\n",
       "  'sentiment': 1},\n",
       " {'tweet': 'Watch the face do it’s thing 🤣! \\n#SKYSCRAPER 🤙🏾', 'sentiment': 1},\n",
       " {'tweet': '@MattPiperJenks @AndrewJenks Pancakes and tequila on your one day - deal! Glad you liked the movie dude and good to see you and your bro on the carpet! 👊🏾',\n",
       "  'sentiment': 1},\n",
       " {'tweet': 'Great review for SKYSCRAPER. Thanks Lights Camera Jackson (@LCJReviews). Way cooler nickname than the Rock \\n',\n",
       "  'sentiment': 1},\n",
       " {'tweet': 'Don’t. Look. Down.🔥\\nCritics and audiences are loving SKYSCRAPER! \\nClick the link below and it’ll bring you right to your nearest theater. \\nEnjoy the movie TONIGHT!! And if you’re afraid of heights, don’t say I didn’t warn you.. 😉\\n',\n",
       "  'sentiment': 1},\n",
       " {'tweet': 'Thank you @Playboy for the SKYSCRAPER love ❤️. \\nWe’re curing the summer time blues in theaters this weekend. \\n(and for the record your magazine cured many of my “boyhood blues” for years.. because of all the well written articles of course;)',\n",
       "  'sentiment': 1},\n",
       " {'tweet': 'Great SKYSCRAPER review. Mahalo! We never let up! Buckle up and hold on... 🔥🔥\\n',\n",
       "  'sentiment': 1},\n",
       " {'tweet': 'Cool! Thank you @AP for the great SKYSCRAPER review! \\nSolid as a Ro... never mind. 🤣🤙🏾\\n',\n",
       "  'sentiment': 1},\n",
       " {'tweet': 'Thank you so much 👊🏾 Thrilled you loved the movie. \\nVintage 90’s classic action but with heart was my mission with SKYSCRAPER. 🎯 🙏🏾',\n",
       "  'sentiment': 1},\n",
       " {'tweet': 'You wrote a beautiful/powerful score for our film. Music is our undercurrent soul. Thank you my friend. \\nSKYSCRAPER opens TONIGHT.',\n",
       "  'sentiment': 1},\n",
       " {'tweet': 'Thank you! Have FUN! \\nSKYSCRAPER opens TONIGHT', 'sentiment': 1},\n",
       " {'tweet': 'Awesome read, thanks boys. Enjoy SKYSCRAPER - my love letter to DIE HARD, TOWERING INFERNO, THE FUGITIVE &amp; THE NOTEBOOK. (that last reference exists only in my head).',\n",
       "  'sentiment': 1},\n",
       " {'tweet': '@derekjlawrence @PiyaSRoy @devancoggan Wow that’s pretty damn cool. And CI, Jumanji and J2 are in blue!!?',\n",
       "  'sentiment': 1},\n",
       " {'tweet': 'We finally meet. Do a shot. And eyebrow off... \\n@StephenAtHome \\U0001f928🥃 #LSSC',\n",
       "  'sentiment': 1},\n",
       " {'tweet': 'Gracias GDS! \\nThrilled you loved SKYSCRAPER. \\nGreat hangin’ w ya brotha. 🤙🏾',\n",
       "  'sentiment': 1},\n",
       " {'tweet': '*swipe left \\nMade history tonight with my first ever appearance on the @colbertlateshow. \\nWe talked about the value of always giving 110% at everything you do.\\nSang a Samoan song.\\nRunning…',\n",
       "  'sentiment': 1},\n",
       " {'tweet': '@NateRockQuarry @charlievann88 Haha true dat \\U0001f928',\n",
       "  'sentiment': 1},\n",
       " {'tweet': 'Thank you for joining us in Hong Kong @GMA fam! And yes, I’m effortlessly fluent in Cantonese as seen in the video below 😉🤙🏾\\n#SKYSCRAPER',\n",
       "  'sentiment': 1},\n",
       " {'tweet': '@rgay I invited you spiritually Roxanne!! Waaaay better than physically being there tonight at that boring premiere right!? But still. \\n🍿👏🏾👊🏾',\n",
       "  'sentiment': 1},\n",
       " {'tweet': 'Thank you Hong Kong 🇭🇰. Unforgettable press tour! Blown away by the love. \\n#SKYSCRAPER',\n",
       "  'sentiment': 1},\n",
       " {'tweet': 'What a night 🔥🙏🏾\\n#SKYSCRAPER #NYC', 'sentiment': 1},\n",
       " {'tweet': 'Dude. My. Pleasure. \\nGlad you loved SKYSCRAPER. \\nI’m happy to serve up a “cinematic double cheeseburger” anytime. \\n🍔🍔🤙🏾',\n",
       "  'sentiment': 1},\n",
       " {'tweet': '@MrDrewScott Get it brother! 👏🏾👏🏾💪🏾', 'sentiment': 1},\n",
       " {'tweet': '@WitneyCarson I’ll be right there Dub-C! Enjoy the movie! Tequila’s on me! 🥃🤙🏾',\n",
       "  'sentiment': 1},\n",
       " {'tweet': 'Thanks dude!! Glad you had a blast tonight watching SKYSCRAPER! Making summer fun was my goal. Totally right about Neve Campbell, btw... steals every scene ❤️🤙🏾',\n",
       "  'sentiment': 1},\n",
       " {'tweet': 'Thx AG for the SKYSCRAPER luv. \\nWe purposely went over the top with our action set pieces and respectfully, paid homage to Die Hard, The Fugitive and Towering Inferno. #YippeeKiyay 😉🤙🏾',\n",
       "  'sentiment': 1},\n",
       " {'tweet': '🔥 Grateful you loved SKYSCRAPER @monstersandcrit. \\nMy life is just that, part monster/part critic. And full absorber of fine tequila. Thx for the great review 👊🏾',\n",
       "  'sentiment': 1},\n",
       " {'tweet': '@GraceRandolph @Bosco685 @Twitch You’re tired and fatigued Grace (like me all month;).. don’t listen to nerdy nix nook lol. I made a movie and you, fortunately for me.. liked it. We’re besties now 😉🤙🏾👊🏾',\n",
       "  'sentiment': 1},\n",
       " {'tweet': 'So nice getting these great reviews for SKYSCRAPER. \\nThank you @Lulamaybelle 🙏🏾🙌🏾. Wanted to make a big, entertaining, VERTIGO INDUCING ride for some summer fun. \\n',\n",
       "  'sentiment': 1},\n",
       " {'tweet': 'Means a lot 🙏🏾 Thank ya Angela! Glad you liked the movie and I can be “that dude” 😉👏🏾👊🏾\\n#SKYSCRAPER',\n",
       "  'sentiment': 1},\n",
       " {'tweet': 'Yippee Kiyay! Great review for SKYSCRAPER. Mahalo @Newsday! Happy you had a great time at the movies! 🙏🏾🙌🏾🍿\\n',\n",
       "  'sentiment': 1},\n",
       " {'tweet': 'Great SKYSCRAPER review! Mahalo! You’re right, our movie is an homage to the big over the top, entertaining action movies we grew up with from the 80’s &amp; 90’s. Glad you loved it! \\n🙌🏾👊🏾\\n',\n",
       "  'sentiment': 1},\n",
       " {'tweet': 'Great hanging w you! Thanks for having fun, putting up with my cheesy jokes and see ya down the road 😉👊🏾 #SKYSCRAPER',\n",
       "  'sentiment': 1},\n",
       " {'tweet': '@frankpallotta Haha thanks brother! What about the film where I “smolder” the whole time or the one where I slap Kevin Hart into next week. My bad that’s the same film lol',\n",
       "  'sentiment': 1},\n",
       " {'tweet': 'Thank you @VanityFair for the great review for SKYSCRAPER. Glad you enjoyed the summer flick and yes, you’re right... “daddy loves us all” Yes, I do. \\n😉🙏🏾🤙🏾\\n',\n",
       "  'sentiment': 1},\n",
       " {'tweet': '👏🏾 Great review for SKYSCRAPER. Thank you! \\n“Dizzying heights and dad strength” is also the names of my mosh pit bands. \\n',\n",
       "  'sentiment': 1},\n",
       " {'tweet': 'Early buzz is good. Thank ya man. \\nWe made a good one for the summer! Enjoy the flick! #SKYSCRAPER',\n",
       "  'sentiment': 1},\n",
       " {'tweet': '@jdub1005 @GMA Wow thank you! Sweet ink! Enjoy the movie!!',\n",
       "  'sentiment': 1},\n",
       " {'tweet': 'NOOOOOO! Don’t ever hand my mom a LIVE microphone again. Yes, my nickname as a boy was “Dewey” but it was also cool ass nicknames like “Ax” and “Spike”..',\n",
       "  'sentiment': 1},\n",
       " {'tweet': 'Thanks for the kind words my friend @RawsonThurber. Checks in the mail 😊👊🏾',\n",
       "  'sentiment': 1},\n",
       " {'tweet': 'SURPRISE!! You’re my special guests at tonight’s SKYSCRAPER premiere! See you on that red carpet! #NYC🔥',\n",
       "  'sentiment': 1},\n",
       " {'tweet': 'Haha you don’t play when it comes to movies! \\nGlad you loved the movie 🎥🍿\\nSKYSCRAPER!',\n",
       "  'sentiment': 1},\n",
       " {'tweet': 'Thanks for the great review @thewrap for SKYSCRAPER. \\nDrinks on me! (sure when we’ll have drinks, but if we do they’re on me 😉 🥃)',\n",
       "  'sentiment': 1},\n",
       " {'tweet': 'Glad you dug the movie Grace! “Summer popcorn thrill ride” is my nickname from April-Aug 🤣 👊🏾\\nSKYSCRAPER!',\n",
       "  'sentiment': 1},\n",
       " {'tweet': '@theprojecttv Pls do. You guys were great to work with and Tommy is the best. We’ll do it again down the road. I’ll be sure to choose another junket location that’s as as far as possible. The moon 🌚 lol',\n",
       "  'sentiment': 1},\n",
       " {'tweet': 'Cheers 🍻 my dude. Glad you loved the flick! Sweaty palms is always a good thing lol. \\nSKYSCRAPER was my love letter to one of the GOAT’s.. DIE HARD. #YipeeKiyayMF',\n",
       "  'sentiment': 1},\n",
       " {'tweet': '😂👏🏾 Fun interview with Tommy from @theprojecttv. Good chemistry, \\ndespite the fact, we hadn’t slept in 3 days from jet lag in Hong Kong lol. Good times. Thanks my man! #Australia #SKYSCRAPER \\nTHIS FRIDAY!',\n",
       "  'sentiment': 1},\n",
       " {'tweet': 'This SKYSCRAPER review is a classic. 👏🏾🙏🏾😊 \\nThrilled you &amp; your hubby loved the movie. You saying its the perfect date night movie is amazing, but more amazing is your husband saying “take your wife and your girlfriend” and you shutting him down w/ “no don’t do that” 😂👊🏾',\n",
       "  'sentiment': 1},\n",
       " {'tweet': 'Really dig this display at the @ArcLightCinemas of my character’s shirts from SKYSCRAPER. Real blood on that last shirt. Wear CSI gloves when handling that shirt 👀',\n",
       "  'sentiment': 1},\n",
       " {'tweet': 'See you at the premiere man! Pumped for the world to hear and FEEL your emotional music in our movie. #SKYSCRAPER THIS FRIDAY.',\n",
       "  'sentiment': 1},\n",
       " {'tweet': 'Thanks for kickin’ it with us in Hong Kong, Tanika. Always a great time and big laughs. @RawsonThurber #SkyscraperGlobalPressTour',\n",
       "  'sentiment': 1},\n",
       " {'tweet': 'Damn you @RawsonThurber. Just wait til I get you on the air tomorrow LIVE. I’m pulling you off our next project and replacing you with Scorsese. \\nSKYSCRAPER @GMA take over all week long. Join us in the AM!',\n",
       "  'sentiment': 1},\n",
       " {'tweet': 'Had a blast with you Sib!! Thank you for choppin it up with me and @RawsonThurber in Hong Kong. Keep doin it and look forward to seeing ya down the road 👊🏾 @enews #SkyscraperGlobalPressTour',\n",
       "  'sentiment': 1},\n",
       " {'tweet': '@adamglyn I fake it brotha lol. Hope you had a great workout!!',\n",
       "  'sentiment': 1},\n",
       " {'tweet': '🔥 Dreams come true! My squad at @nerdist officially made me a 90’s action star. Check out one of the greatest retro trailers ever made! \\n#90s #FannyPacks #AndExplosions SKYSCRAPER JULY 13th',\n",
       "  'sentiment': 1},\n",
       " {'tweet': '@MistahIslah It ain’t possible. Burn that email brotha 😂🤙🏾',\n",
       "  'sentiment': 0},\n",
       " {'tweet': 'Too much stimulation happening here Christina!! Now I’m contemplating do I go to the gym or extend my cheat day from Sunday to Monday..... \\n🍰 or 🏋🏾. #both',\n",
       "  'sentiment': 0},\n",
       " {'tweet': 'Eagle 🦅 has landed - NYC. \\nArrived hotel suite at 345am and wide awake from 17hr flight from China. \\nBig shout to my ace sevenbucksprod assistant @jazoblah for always making sure my work…',\n",
       "  'sentiment': 1},\n",
       " {'tweet': '✌🏾out CHINA. \\nLove U back and THANK YOU for your passion, energy &amp; a wildly successful tour 🙏🏾❤️\\nSee ya down the road.\\nNEW YORK CITY.. I’m coming home. \\n#CueTheMusic #WheelsUp…',\n",
       "  'sentiment': 1},\n",
       " {'tweet': 'Quiet and calm before the storm. *takes deep breath. Frenzy begins in 3...2...\\n#SkyscraperGlobalPressTour',\n",
       "  'sentiment': 0},\n",
       " {'tweet': '*swipe left \\nSmiles and chaotic frenzy mixes very well.. like fine tequila poured on ice. \\n#ThankYouCHINA #SkyscraperGlobalPressTour 🥃',\n",
       "  'sentiment': 1},\n",
       " {'tweet': 'Haha crazy true story. FitBit phenomena happening at our screenings while watching #Skyscraper. 100+ HR.\\nI warn you now if you suffer from acrophobia, make sure you bring a friend.',\n",
       "  'sentiment': 1},\n",
       " {'tweet': '@TheKyleWells @SmashMouthWWT Get after it man!! 👊🏾',\n",
       "  'sentiment': 1},\n",
       " {'tweet': '@BrittanyLKaplan Brit!! It’s always gonna be ok.. 💫🙏🏾👊🏾',\n",
       "  'sentiment': 1},\n",
       " {'tweet': 'When scaling down the outside of a burning building that’s over 3,000ft high don’t ever look down. Trust me, I did and it was dumb. #HelloVertigo #SKYSCRAPER JULY 13th',\n",
       "  'sentiment': 0},\n",
       " {'tweet': 'There’s not a scream, a smile, a tear, a hug, a laugh, more tears;), another laugh, another hug, that I will EVER take for granted. I’m boundlessly grateful for this passionate luv. \\nI luv you back. \\nThank you China 🇨🇳 \\nSee you down the road ~ DJ\\U0001f91f🏾\\n#SkyscraperGlobalPressTour',\n",
       "  'sentiment': 1},\n",
       " {'tweet': 'Rockin’ it. \\nAnticipation is building. It’s in the air.. you can cut it with a knife. \\nIncredible luv from this amazing city. \\nI’m grateful. And sweating bullets.…',\n",
       "  'sentiment': 1},\n",
       " {'tweet': 'This was a big interview for my buddy  @RawsonThurber &amp; Linda Werthheimer at @NPR. \\nGreat job Rawson! Myself, USC Film School &amp; your fav taco truck are very proud of you and your lil’ burning building movie, #Skyscraper.',\n",
       "  'sentiment': 1},\n",
       " {'tweet': '*swipe left\\nAlways fun blending in everywhere I go. \\n#CHINA #SkyscraperGlobalPressTour',\n",
       "  'sentiment': 1},\n",
       " {'tweet': 'Rockin’ it. \\nAnticipation is building. It’s in the air.. you can cut it with a knife. \\nIncredible luv from this amazing city. \\nI’m grateful. And sweating bullets.…',\n",
       "  'sentiment': 1},\n",
       " {'tweet': '🎂👏🏾 Happy Birthday @kevinhart4real from the only two real friends you have. @rawsonthurber, the man who directed the best performance of your career in CENTRAL INTELLIGENCE and the big,…',\n",
       "  'sentiment': 1},\n",
       " {'tweet': '*swipe left\\nAlways fun blending in everywhere I go. \\n#CHINA #SkyscraperGlobalPressTour',\n",
       "  'sentiment': 1},\n",
       " {'tweet': 'Intense training seshes here in Hong Kong. \\nBody and mind needed it - grateful. \\nMy version of chicken soup for the soul lol. \\n#SweatEquity #HardestWorkerInTheRoom \\n#ChineseIronParadise…',\n",
       "  'sentiment': 1},\n",
       " {'tweet': '* double snap * goes to Jesus. \\nA lil’ fun game we played called - Who would you save from a burning building and who would you push off? \\n@rawsonthurber says he’ll push me off. What an…',\n",
       "  'sentiment': 0},\n",
       " {'tweet': 'This awesome journalist came in rockin’ a RUN DMC shirt. She said she loved hip hop and especially NWA and Double E. @rawsonthurber who loves hip hop as well, gets shut down when I say…',\n",
       "  'sentiment': 1},\n",
       " {'tweet': 'While doing press interviews with my SKYSCRAPER writer/director @rawsonthurber, the Hater-Ade just pours out of his skin and it makes my soul sing happily. \\nAnother female journalist with…',\n",
       "  'sentiment': 1},\n",
       " {'tweet': '*swipe left \\n#SkyscraperGlobalPressTour 🌎🔥\\nTHANK YOU to our press friends from around the world who joined us for our global junket here in the beautiful city of 🇭🇰 Hong Kong. \\nI love…',\n",
       "  'sentiment': 1},\n",
       " {'tweet': 'Luv this gal. \\nGreat hanging w/ you @ABonTV in Hong Kong. \\nThis Monday on @GMA. \\n#visionboard 👊🏾',\n",
       "  'sentiment': 1},\n",
       " {'tweet': 'We make quite the team, even though I refuse to listen to a word he says. \\nGreat latimes piece on myself and my SKYSCRAPER writer/director @rawsonthurber - even though he’s looking at me…',\n",
       "  'sentiment': 0},\n",
       " {'tweet': \"We're LIVE right now with a real-life #SKYSCRAPERClimb by the master @frenchspiderman. He's here in Hong Kong with us about to take on the Four Seasons. Don’t try this at home...\",\n",
       "  'sentiment': 1},\n",
       " {'tweet': 'Great hangin’ with you Champ. Keep kickin’ ass and reaching for more! \\nAnd much love for championship gloves 🥊 🤙🏾👊🏾\\n#SkyscraperGlobalPressTour',\n",
       "  'sentiment': 1},\n",
       " {'tweet': '@SchiavelloVOICE @ONEChampionship Hell yeah! Damage! Best of luck champ! Thx for the heads up brotha Mike 👊🏾',\n",
       "  'sentiment': 1},\n",
       " {'tweet': 'Love it when a plan comes together. \\nHe’s a baaaaad man. Let’s dance.. \\n#ElbaVsRock #HobbsAndShaw',\n",
       "  'sentiment': 1},\n",
       " {'tweet': 'He’s bad, but I’m dangerous 😈\\nWelcome my brotha @idriselba with tattooed and open arms to our #HobbsAndShaw Fast &amp; Furious spin-off movie. \\nFor years we’ve been waiting for the right…',\n",
       "  'sentiment': 0},\n",
       " {'tweet': '@ThaDawg13 Thx u man!! 👊🏾💪🏾', 'sentiment': 1},\n",
       " {'tweet': 'Well that’s where you went wrong Cooper. Math professor is the wrong person for the job. Trust me, I suck at math. We want to bring in a slightly drunk foreman on a construction site to calculate my iconic SKYSCRAPER jump. Trust me, I build stuff and I drink. 🤚🏾🥃',\n",
       "  'sentiment': 0},\n",
       " {'tweet': 'In every country, around the world, if there’s a hardcore gym where I can jack iron... I’ll find it. \\nBut then again, I’ve been known to look for love in questionable places. 😈💪🏾\\n#ThaHood…',\n",
       "  'sentiment': 1},\n",
       " {'tweet': 'On our #SkyscraperGlobalPressTour my director @rawsonthurber realizes I’m hell on wheels. and for the record I do NOT fart on elevators. But if I did it would smell like roses and ambition…',\n",
       "  'sentiment': 1},\n",
       " {'tweet': 'I promised we were going to make this Fast &amp; Furious spin off awesome and grow our franchise properly. He’s a bad man (legit bad ass). I better toughen up 👀😉 \\n#HobbsAndShaw',\n",
       "  'sentiment': 0},\n",
       " {'tweet': '@ohheyjesssager 😂😂😈', 'sentiment': 1},\n",
       " {'tweet': 'He’s a baaaaaad man. \\nWelcoming my dude @idriselba with tattooed and open arms to our #HobbsAndShaw Fast &amp; Furious spin-off movie. \\nEvery hero is only as good as their villain. Cue the music... let’s dance.',\n",
       "  'sentiment': 1},\n",
       " {'tweet': 'True. \\nOur #SKYSCRAPER on JULY 13th is sandwiched and surrounded by the giants of the summer/ INCREDIBLES, ANT-MAN, MISSION IMPOSSIBLE etc. I’m extremely competitive so bring on the giants. Just don’t punch me in the face too badly 🙏🏾😂',\n",
       "  'sentiment': 0},\n",
       " {'tweet': 'Great piece! Thank you @latimes. Myself and my SKYSCRAPER writer/director @RawsonThurber enjoyed chopping it all up with you. Business of Hollywood, ebbs and flows but always moves onward and upward. #HardestWorkersInTheRoom \\n',\n",
       "  'sentiment': 1},\n",
       " {'tweet': 'Thank you @GMA for having us on live from the highest bar (Ozone Bar) in the world, on top of the tallest skyscraper in Hong Kong. SKYSCRAPER takeover all week long on GMA 🙏🏾👊🏾 \\n(and you KNOW I had to break out the tequila in this interview;)',\n",
       "  'sentiment': 1},\n",
       " {'tweet': 'Way to pick up on that creative dude. The massive jump that scientists &amp; experts have been debating since our first (of three) poster was released. Barely surviving the entire movie..\\n#SKYSCRAPER JULY 13th',\n",
       "  'sentiment': 0},\n",
       " {'tweet': '10pm. Hong Kong. And a delicious 🇺🇸🎂 I personally baked. \\nWe raise a glass in honor of July 4th. \\nThough we’re on tour for SKYSCRAPER, myself, @wenJ3 @wenJ3 @hhgarcia41 &amp; @rawsonthurber,…',\n",
       "  'sentiment': 1},\n",
       " {'tweet': '10pm. Hong Kong. And a delicious 🇺🇸🎂 I personally baked. \\nWe raise a glass in honor of July 4th. \\nThough we’re on tour for SKYSCRAPER, myself, @wenJ3 @wenJ3 @hhgarcia41 &amp; @rawsonthurber,…',\n",
       "  'sentiment': 1},\n",
       " {'tweet': 'Thank ya! We made a good one. “Sharp and Awesome” was the name of my blues band when I was 12. \\n#SKYSCRAPER JULY 13th',\n",
       "  'sentiment': 1},\n",
       " {'tweet': '@courtbauer Yeah bud John Woo was going to direct Spy Hunter. We were pumped to make the movie, but it fell apart at Universal. Can’t force em, movies will get made when it’s meant to be.',\n",
       "  'sentiment': 0},\n",
       " {'tweet': 'The stylish white guy wrote and directed SKYSCRAPER. \\nThe tattooed, big brown guy ruins selfie vids and makes inaudible sounds as if he’s drunk. #SkyscraperPressTour #Beijing',\n",
       "  'sentiment': 1},\n",
       " {'tweet': 'On Skyscraper press tour here in Hong Kong now and a damn good one just came on from \\u2066@ericchurch\\u2069 (feat Susan Tedeschi)🤙🏾 \\n🎧 Mixed Drinks About Feelings (Feat. Susan Tedeschi) by @ericchurch on @PandoraMusic',\n",
       "  'sentiment': 1},\n",
       " {'tweet': '*swipe left 👏🏾👏🏾📸\\nEnergy was HIGH as CHINA was the first around the world to see our SKYSCRAPER. \\nAn amazing press conference and world premiere. \\nThey LOVED the film! Hated me, but loved…',\n",
       "  'sentiment': 1},\n",
       " {'tweet': 'My SKYSCRAPER writer/director @RawsonThurber is a sharp cookie. Plus, I pay him in waffles and tequila to say nice things about me. Check out his commentary here ⬇️',\n",
       "  'sentiment': 1},\n",
       " {'tweet': 'Get after it KR! You’ll be even more motivated than you already are. Enjoy the #ProjectRockWireless headphones 🎧 !\\n#FutureChamp',\n",
       "  'sentiment': 1},\n",
       " {'tweet': 'Enjoy Amanda! You’re gonna love ‘em. They’ll be one of the best, if not the best you’ve ever trained in. #ProjectRockWireless @UnderArmour',\n",
       "  'sentiment': 1},\n",
       " {'tweet': 'I guaran-damn-teed, @VanessaKirby she was gonna have a BLAST with me shooting our movie. We’ll also have a blast making Statham extremely jelly. Or as we say in the streets, jealous lol \\n#Kirby #FastAndFurious #HobbsAndShaw',\n",
       "  'sentiment': 0},\n",
       " {'tweet': '@ErikDavis Thx man! I geeked out over this too. Love this “inside baseball” part of our business. Great stuff for the fans!',\n",
       "  'sentiment': 1},\n",
       " {'tweet': 'DON’T LOOK DOWN! \\nIronically, I made SKYSCRAPER and I still just geeked out watching my director @RawsonThurber give this SUPER INSIGHTFUL breakdown of my soon to be infamous (and insane) leap off the super crane. Enjoy!',\n",
       "  'sentiment': 1},\n",
       " {'tweet': 'Welcome the very talented @VanessaKirby to our “HOBBS &amp; SHAW” Fast &amp; Furious spin-off. We chopped it up and we had some GREAT chemistry together. She’s a sharp one - this is gonna be fun! #Kirby #HobbsAndShaw \\n',\n",
       "  'sentiment': 1},\n",
       " {'tweet': 'Had a blast with you buddy today in Beijing for our press conference. Pumped for fans to see your performance in our movie - Thank you! #SKYSCRAPER \\nJULY 13th 🌍\\nJULY 20th 🇨🇳',\n",
       "  'sentiment': 1},\n",
       " {'tweet': 'Our crew! Luv these two talented humans. Hanna does a phenomenal job in our movie and Jay’s my dude 🤙🏾 \\n#HannaQuinlivan #JayChou #SkyscraperWorldPremiere #BEIJING #SKYSCRAPER JULY 13th',\n",
       "  'sentiment': 1},\n",
       " {'tweet': 'She radiates love and positivity. Such a pleasure to work with. What a gal! #NeveCampbell #WorldPremiere #SKYSCRAPER #Beijing',\n",
       "  'sentiment': 1},\n",
       " {'tweet': 'Big time love &amp; respect to the classic films of a classic genre:\\nDIE HARD &amp; TOWERING INFERNO. \\nThx U to the GOAT’s - Willis, McQueen &amp; Newman who inspired me and our SKYSCRAPER. 🙏🏾',\n",
       "  'sentiment': 1},\n",
       " {'tweet': 'Just wrapped a phenomenal #SKYSCRAPER press conference in Beijing. Amazing energy from the press and fans. Event was quite massive, like the circumference of my head.',\n",
       "  'sentiment': 1},\n",
       " {'tweet': 'DON’T LOOK DOWN. \\nTake a deep breath and enjoy our NEW and FINAL trailer for #SKYSCRAPER. \\nJULY 13th 🔥🌍Get tickets:',\n",
       "  'sentiment': 1},\n",
       " {'tweet': 'Bruce was a big influence on me. Die Hard (and Towering Inferno) were the inspirations for SKYSCRAPER. Paying homage to those films. \\nBruce, McQueen &amp; Newman. #GOATS',\n",
       "  'sentiment': 1},\n",
       " {'tweet': 'Fun promo. Let’s get it boys! @NASCAR #SKYSCRAPER',\n",
       "  'sentiment': 1},\n",
       " {'tweet': 'I had these ultra cool vintage posters made paying homage to the two classic movies that inspired me and generations, and became the inspiration for my film SKYSCRAPER. \\nRespect &amp; luv to the GOAT’s Willis, McQueen &amp; Newman.\\n#DieHard #ToweringInferno \\n#SKYSCRAPER JULY 13th🔥🌍',\n",
       "  'sentiment': 1},\n",
       " {'tweet': 'Beijing bound 🇨🇳\\nA pleasure to return back to China. \\nCan’t wait to see everyone. Let’s roll.\\n#WheelsUp #FlyingSilverEagle #SkyscraperGlobalTour #BEIJING \\n@hhgarcia41 📸',\n",
       "  'sentiment': 1},\n",
       " {'tweet': '@robbieglover Thx man that’s a such a cool note. Appreciate you and keep on keepin on 🙏🏾👊🏾',\n",
       "  'sentiment': 1},\n",
       " {'tweet': '@Amy__Bailey Haha 👏🏾👏🏾👊🏾 #swag', 'sentiment': 1},\n",
       " {'tweet': 'Here I go playing Willy Wonka again and surprised our lil’ baby Jazzy with this horse and carousel ride when she got home. \\nHer face LIT UP! \\nSounds silly, but lil’ surprises and doing…',\n",
       "  'sentiment': 1},\n",
       " {'tweet': 'Off to a good start on tracking w/ a $30M U.S. number for our SKYSCRAPER debut. \\nDomestic box office is one piece of many pieces that come together for your overall global box office on…',\n",
       "  'sentiment': 1},\n",
       " {'tweet': '@gregwarhead @charliesimo @KevinHart4real @mattjwillis Haha never any shame in hustling to get your music heard dude. I dig it. Crumble. At sec 40 you surprised me by slowing tempo down. Bad ass. Congrats 👊🏾',\n",
       "  'sentiment': 1}]"
      ]
     },
     "execution_count": 165,
     "metadata": {},
     "output_type": "execute_result"
    }
   ],
   "source": [
    "celebrity_to_tweets['TheRock']"
   ]
  },
  {
   "cell_type": "code",
   "execution_count": null,
   "metadata": {},
   "outputs": [],
   "source": []
  }
 ],
 "metadata": {
  "kernelspec": {
   "display_name": "Python 3",
   "language": "python",
   "name": "python3"
  },
  "language_info": {
   "codemirror_mode": {
    "name": "ipython",
    "version": 3
   },
   "file_extension": ".py",
   "mimetype": "text/x-python",
   "name": "python",
   "nbconvert_exporter": "python",
   "pygments_lexer": "ipython3",
   "version": "3.6.6"
  }
 },
 "nbformat": 4,
 "nbformat_minor": 2
}
